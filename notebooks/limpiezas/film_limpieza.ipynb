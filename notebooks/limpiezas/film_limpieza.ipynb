{
 "cells": [
  {
   "cell_type": "markdown",
   "id": "a8489fe7",
   "metadata": {},
   "source": [
    "# 1. Importación de librerías"
   ]
  },
  {
   "cell_type": "code",
   "execution_count": 2,
   "id": "38f7bdea",
   "metadata": {},
   "outputs": [],
   "source": [
    "import pandas as pd"
   ]
  },
  {
   "cell_type": "markdown",
   "id": "5851166b",
   "metadata": {},
   "source": [
    "# 2. 'film.csv'"
   ]
  },
  {
   "cell_type": "markdown",
   "id": "e2a852f9",
   "metadata": {},
   "source": [
    " ## 2.1. Importación del archivo y creación del dataframe"
   ]
  },
  {
   "cell_type": "code",
   "execution_count": 5,
   "id": "322131a3",
   "metadata": {},
   "outputs": [
    {
     "data": {
      "text/html": [
       "<div>\n",
       "<style scoped>\n",
       "    .dataframe tbody tr th:only-of-type {\n",
       "        vertical-align: middle;\n",
       "    }\n",
       "\n",
       "    .dataframe tbody tr th {\n",
       "        vertical-align: top;\n",
       "    }\n",
       "\n",
       "    .dataframe thead th {\n",
       "        text-align: right;\n",
       "    }\n",
       "</style>\n",
       "<table border=\"1\" class=\"dataframe\">\n",
       "  <thead>\n",
       "    <tr style=\"text-align: right;\">\n",
       "      <th></th>\n",
       "      <th>film_id</th>\n",
       "      <th>title</th>\n",
       "      <th>description</th>\n",
       "      <th>release_year</th>\n",
       "      <th>language_id</th>\n",
       "      <th>original_language_id</th>\n",
       "      <th>rental_duration</th>\n",
       "      <th>rental_rate</th>\n",
       "      <th>length</th>\n",
       "      <th>replacement_cost</th>\n",
       "      <th>rating</th>\n",
       "      <th>special_features</th>\n",
       "      <th>last_update</th>\n",
       "    </tr>\n",
       "  </thead>\n",
       "  <tbody>\n",
       "    <tr>\n",
       "      <th>0</th>\n",
       "      <td>1</td>\n",
       "      <td>ACADEMY DINOSAUR</td>\n",
       "      <td>A Epic Drama of a Feminist And a Mad Scientist...</td>\n",
       "      <td>2006</td>\n",
       "      <td>1</td>\n",
       "      <td>NaN</td>\n",
       "      <td>6</td>\n",
       "      <td>0.99</td>\n",
       "      <td>86</td>\n",
       "      <td>20.99</td>\n",
       "      <td>PG</td>\n",
       "      <td>Deleted Scenes,Behind the Scenes</td>\n",
       "      <td>2006-02-15 05:03:42</td>\n",
       "    </tr>\n",
       "    <tr>\n",
       "      <th>1</th>\n",
       "      <td>2</td>\n",
       "      <td>ACE GOLDFINGER</td>\n",
       "      <td>A Astounding Epistle of a Database Administrat...</td>\n",
       "      <td>2006</td>\n",
       "      <td>1</td>\n",
       "      <td>NaN</td>\n",
       "      <td>3</td>\n",
       "      <td>4.99</td>\n",
       "      <td>48</td>\n",
       "      <td>12.99</td>\n",
       "      <td>G</td>\n",
       "      <td>Trailers,Deleted Scenes</td>\n",
       "      <td>2006-02-15 05:03:42</td>\n",
       "    </tr>\n",
       "    <tr>\n",
       "      <th>2</th>\n",
       "      <td>3</td>\n",
       "      <td>ADAPTATION HOLES</td>\n",
       "      <td>A Astounding Reflection of a Lumberjack And a ...</td>\n",
       "      <td>2006</td>\n",
       "      <td>1</td>\n",
       "      <td>NaN</td>\n",
       "      <td>7</td>\n",
       "      <td>2.99</td>\n",
       "      <td>50</td>\n",
       "      <td>18.99</td>\n",
       "      <td>NC-17</td>\n",
       "      <td>Trailers,Deleted Scenes</td>\n",
       "      <td>2006-02-15 05:03:42</td>\n",
       "    </tr>\n",
       "    <tr>\n",
       "      <th>3</th>\n",
       "      <td>4</td>\n",
       "      <td>AFFAIR PREJUDICE</td>\n",
       "      <td>A Fanciful Documentary of a Frisbee And a Lumb...</td>\n",
       "      <td>2006</td>\n",
       "      <td>1</td>\n",
       "      <td>NaN</td>\n",
       "      <td>5</td>\n",
       "      <td>2.99</td>\n",
       "      <td>117</td>\n",
       "      <td>26.99</td>\n",
       "      <td>G</td>\n",
       "      <td>Commentaries,Behind the Scenes</td>\n",
       "      <td>2006-02-15 05:03:42</td>\n",
       "    </tr>\n",
       "    <tr>\n",
       "      <th>4</th>\n",
       "      <td>5</td>\n",
       "      <td>AFRICAN EGG</td>\n",
       "      <td>A Fast-Paced Documentary of a Pastry Chef And ...</td>\n",
       "      <td>2006</td>\n",
       "      <td>1</td>\n",
       "      <td>NaN</td>\n",
       "      <td>6</td>\n",
       "      <td>2.99</td>\n",
       "      <td>130</td>\n",
       "      <td>22.99</td>\n",
       "      <td>G</td>\n",
       "      <td>Deleted Scenes</td>\n",
       "      <td>2006-02-15 05:03:42</td>\n",
       "    </tr>\n",
       "    <tr>\n",
       "      <th>...</th>\n",
       "      <td>...</td>\n",
       "      <td>...</td>\n",
       "      <td>...</td>\n",
       "      <td>...</td>\n",
       "      <td>...</td>\n",
       "      <td>...</td>\n",
       "      <td>...</td>\n",
       "      <td>...</td>\n",
       "      <td>...</td>\n",
       "      <td>...</td>\n",
       "      <td>...</td>\n",
       "      <td>...</td>\n",
       "      <td>...</td>\n",
       "    </tr>\n",
       "    <tr>\n",
       "      <th>995</th>\n",
       "      <td>996</td>\n",
       "      <td>YOUNG LANGUAGE</td>\n",
       "      <td>A Unbelieveable Yarn of a Boat And a Database ...</td>\n",
       "      <td>2006</td>\n",
       "      <td>1</td>\n",
       "      <td>NaN</td>\n",
       "      <td>6</td>\n",
       "      <td>0.99</td>\n",
       "      <td>183</td>\n",
       "      <td>9.99</td>\n",
       "      <td>G</td>\n",
       "      <td>Trailers,Behind the Scenes</td>\n",
       "      <td>2006-02-15 05:03:42</td>\n",
       "    </tr>\n",
       "    <tr>\n",
       "      <th>996</th>\n",
       "      <td>997</td>\n",
       "      <td>YOUTH KICK</td>\n",
       "      <td>A Touching Drama of a Teacher And a Cat who mu...</td>\n",
       "      <td>2006</td>\n",
       "      <td>1</td>\n",
       "      <td>NaN</td>\n",
       "      <td>4</td>\n",
       "      <td>0.99</td>\n",
       "      <td>179</td>\n",
       "      <td>14.99</td>\n",
       "      <td>NC-17</td>\n",
       "      <td>Trailers,Behind the Scenes</td>\n",
       "      <td>2006-02-15 05:03:42</td>\n",
       "    </tr>\n",
       "    <tr>\n",
       "      <th>997</th>\n",
       "      <td>998</td>\n",
       "      <td>ZHIVAGO CORE</td>\n",
       "      <td>A Fateful Yarn of a Composer And a Man who mus...</td>\n",
       "      <td>2006</td>\n",
       "      <td>1</td>\n",
       "      <td>NaN</td>\n",
       "      <td>6</td>\n",
       "      <td>0.99</td>\n",
       "      <td>105</td>\n",
       "      <td>10.99</td>\n",
       "      <td>NC-17</td>\n",
       "      <td>Deleted Scenes</td>\n",
       "      <td>2006-02-15 05:03:42</td>\n",
       "    </tr>\n",
       "    <tr>\n",
       "      <th>998</th>\n",
       "      <td>999</td>\n",
       "      <td>ZOOLANDER FICTION</td>\n",
       "      <td>A Fateful Reflection of a Waitress And a Boat ...</td>\n",
       "      <td>2006</td>\n",
       "      <td>1</td>\n",
       "      <td>NaN</td>\n",
       "      <td>5</td>\n",
       "      <td>2.99</td>\n",
       "      <td>101</td>\n",
       "      <td>28.99</td>\n",
       "      <td>R</td>\n",
       "      <td>Trailers,Deleted Scenes</td>\n",
       "      <td>2006-02-15 05:03:42</td>\n",
       "    </tr>\n",
       "    <tr>\n",
       "      <th>999</th>\n",
       "      <td>1000</td>\n",
       "      <td>ZORRO ARK</td>\n",
       "      <td>A Intrepid Panorama of a Mad Scientist And a B...</td>\n",
       "      <td>2006</td>\n",
       "      <td>1</td>\n",
       "      <td>NaN</td>\n",
       "      <td>3</td>\n",
       "      <td>4.99</td>\n",
       "      <td>50</td>\n",
       "      <td>18.99</td>\n",
       "      <td>NC-17</td>\n",
       "      <td>Trailers,Commentaries,Behind the Scenes</td>\n",
       "      <td>2006-02-15 05:03:42</td>\n",
       "    </tr>\n",
       "  </tbody>\n",
       "</table>\n",
       "<p>1000 rows × 13 columns</p>\n",
       "</div>"
      ],
      "text/plain": [
       "     film_id              title  \\\n",
       "0          1   ACADEMY DINOSAUR   \n",
       "1          2     ACE GOLDFINGER   \n",
       "2          3   ADAPTATION HOLES   \n",
       "3          4   AFFAIR PREJUDICE   \n",
       "4          5        AFRICAN EGG   \n",
       "..       ...                ...   \n",
       "995      996     YOUNG LANGUAGE   \n",
       "996      997         YOUTH KICK   \n",
       "997      998       ZHIVAGO CORE   \n",
       "998      999  ZOOLANDER FICTION   \n",
       "999     1000          ZORRO ARK   \n",
       "\n",
       "                                           description  release_year  \\\n",
       "0    A Epic Drama of a Feminist And a Mad Scientist...          2006   \n",
       "1    A Astounding Epistle of a Database Administrat...          2006   \n",
       "2    A Astounding Reflection of a Lumberjack And a ...          2006   \n",
       "3    A Fanciful Documentary of a Frisbee And a Lumb...          2006   \n",
       "4    A Fast-Paced Documentary of a Pastry Chef And ...          2006   \n",
       "..                                                 ...           ...   \n",
       "995  A Unbelieveable Yarn of a Boat And a Database ...          2006   \n",
       "996  A Touching Drama of a Teacher And a Cat who mu...          2006   \n",
       "997  A Fateful Yarn of a Composer And a Man who mus...          2006   \n",
       "998  A Fateful Reflection of a Waitress And a Boat ...          2006   \n",
       "999  A Intrepid Panorama of a Mad Scientist And a B...          2006   \n",
       "\n",
       "     language_id  original_language_id  rental_duration  rental_rate  length  \\\n",
       "0              1                   NaN                6         0.99      86   \n",
       "1              1                   NaN                3         4.99      48   \n",
       "2              1                   NaN                7         2.99      50   \n",
       "3              1                   NaN                5         2.99     117   \n",
       "4              1                   NaN                6         2.99     130   \n",
       "..           ...                   ...              ...          ...     ...   \n",
       "995            1                   NaN                6         0.99     183   \n",
       "996            1                   NaN                4         0.99     179   \n",
       "997            1                   NaN                6         0.99     105   \n",
       "998            1                   NaN                5         2.99     101   \n",
       "999            1                   NaN                3         4.99      50   \n",
       "\n",
       "     replacement_cost rating                         special_features  \\\n",
       "0               20.99     PG         Deleted Scenes,Behind the Scenes   \n",
       "1               12.99      G                  Trailers,Deleted Scenes   \n",
       "2               18.99  NC-17                  Trailers,Deleted Scenes   \n",
       "3               26.99      G           Commentaries,Behind the Scenes   \n",
       "4               22.99      G                           Deleted Scenes   \n",
       "..                ...    ...                                      ...   \n",
       "995              9.99      G               Trailers,Behind the Scenes   \n",
       "996             14.99  NC-17               Trailers,Behind the Scenes   \n",
       "997             10.99  NC-17                           Deleted Scenes   \n",
       "998             28.99      R                  Trailers,Deleted Scenes   \n",
       "999             18.99  NC-17  Trailers,Commentaries,Behind the Scenes   \n",
       "\n",
       "             last_update  \n",
       "0    2006-02-15 05:03:42  \n",
       "1    2006-02-15 05:03:42  \n",
       "2    2006-02-15 05:03:42  \n",
       "3    2006-02-15 05:03:42  \n",
       "4    2006-02-15 05:03:42  \n",
       "..                   ...  \n",
       "995  2006-02-15 05:03:42  \n",
       "996  2006-02-15 05:03:42  \n",
       "997  2006-02-15 05:03:42  \n",
       "998  2006-02-15 05:03:42  \n",
       "999  2006-02-15 05:03:42  \n",
       "\n",
       "[1000 rows x 13 columns]"
      ]
     },
     "metadata": {},
     "output_type": "display_data"
    }
   ],
   "source": [
    "film = pd.read_csv('../../../3.5-mysql/data/film.csv', encoding = 'latin1')\n",
    "display(film)"
   ]
  },
  {
   "cell_type": "markdown",
   "id": "c6d870dd",
   "metadata": {},
   "source": [
    "## 2.2. Elementos totales del data frame (número de filas multiplicado por el número de columnas)"
   ]
  },
  {
   "cell_type": "code",
   "execution_count": 6,
   "id": "a7237559",
   "metadata": {},
   "outputs": [
    {
     "data": {
      "text/plain": [
       "13000"
      ]
     },
     "execution_count": 6,
     "metadata": {},
     "output_type": "execute_result"
    }
   ],
   "source": [
    "film.size"
   ]
  },
  {
   "cell_type": "markdown",
   "id": "54a387de",
   "metadata": {},
   "source": [
    "## 2.3. Número de filas y número de columnas"
   ]
  },
  {
   "cell_type": "code",
   "execution_count": 7,
   "id": "b00d25ca",
   "metadata": {},
   "outputs": [
    {
     "data": {
      "text/plain": [
       "(1000, 13)"
      ]
     },
     "execution_count": 7,
     "metadata": {},
     "output_type": "execute_result"
    }
   ],
   "source": [
    "film.shape"
   ]
  },
  {
   "cell_type": "markdown",
   "id": "3a2777d0",
   "metadata": {},
   "source": [
    "## 2.4. Información general del data frame"
   ]
  },
  {
   "cell_type": "code",
   "execution_count": 8,
   "id": "bfd0da1c",
   "metadata": {
    "scrolled": true
   },
   "outputs": [
    {
     "name": "stdout",
     "output_type": "stream",
     "text": [
      "<class 'pandas.core.frame.DataFrame'>\n",
      "RangeIndex: 1000 entries, 0 to 999\n",
      "Data columns (total 13 columns):\n",
      " #   Column                Non-Null Count  Dtype  \n",
      "---  ------                --------------  -----  \n",
      " 0   film_id               1000 non-null   int64  \n",
      " 1   title                 1000 non-null   object \n",
      " 2   description           1000 non-null   object \n",
      " 3   release_year          1000 non-null   int64  \n",
      " 4   language_id           1000 non-null   int64  \n",
      " 5   original_language_id  0 non-null      float64\n",
      " 6   rental_duration       1000 non-null   int64  \n",
      " 7   rental_rate           1000 non-null   float64\n",
      " 8   length                1000 non-null   int64  \n",
      " 9   replacement_cost      1000 non-null   float64\n",
      " 10  rating                1000 non-null   object \n",
      " 11  special_features      1000 non-null   object \n",
      " 12  last_update           1000 non-null   object \n",
      "dtypes: float64(3), int64(5), object(5)\n",
      "memory usage: 101.7+ KB\n"
     ]
    }
   ],
   "source": [
    "film.info()"
   ]
  },
  {
   "cell_type": "markdown",
   "id": "b62f98b8",
   "metadata": {},
   "source": [
    "## 2.5. Estadísticas"
   ]
  },
  {
   "cell_type": "code",
   "execution_count": 9,
   "id": "82cef812",
   "metadata": {},
   "outputs": [
    {
     "data": {
      "text/html": [
       "<div>\n",
       "<style scoped>\n",
       "    .dataframe tbody tr th:only-of-type {\n",
       "        vertical-align: middle;\n",
       "    }\n",
       "\n",
       "    .dataframe tbody tr th {\n",
       "        vertical-align: top;\n",
       "    }\n",
       "\n",
       "    .dataframe thead th {\n",
       "        text-align: right;\n",
       "    }\n",
       "</style>\n",
       "<table border=\"1\" class=\"dataframe\">\n",
       "  <thead>\n",
       "    <tr style=\"text-align: right;\">\n",
       "      <th></th>\n",
       "      <th>count</th>\n",
       "      <th>mean</th>\n",
       "      <th>std</th>\n",
       "      <th>min</th>\n",
       "      <th>25%</th>\n",
       "      <th>50%</th>\n",
       "      <th>75%</th>\n",
       "      <th>max</th>\n",
       "    </tr>\n",
       "  </thead>\n",
       "  <tbody>\n",
       "    <tr>\n",
       "      <th>film_id</th>\n",
       "      <td>1000.0</td>\n",
       "      <td>500.500</td>\n",
       "      <td>288.819436</td>\n",
       "      <td>1.00</td>\n",
       "      <td>250.75</td>\n",
       "      <td>500.50</td>\n",
       "      <td>750.25</td>\n",
       "      <td>1000.00</td>\n",
       "    </tr>\n",
       "    <tr>\n",
       "      <th>release_year</th>\n",
       "      <td>1000.0</td>\n",
       "      <td>2006.000</td>\n",
       "      <td>0.000000</td>\n",
       "      <td>2006.00</td>\n",
       "      <td>2006.00</td>\n",
       "      <td>2006.00</td>\n",
       "      <td>2006.00</td>\n",
       "      <td>2006.00</td>\n",
       "    </tr>\n",
       "    <tr>\n",
       "      <th>language_id</th>\n",
       "      <td>1000.0</td>\n",
       "      <td>1.000</td>\n",
       "      <td>0.000000</td>\n",
       "      <td>1.00</td>\n",
       "      <td>1.00</td>\n",
       "      <td>1.00</td>\n",
       "      <td>1.00</td>\n",
       "      <td>1.00</td>\n",
       "    </tr>\n",
       "    <tr>\n",
       "      <th>original_language_id</th>\n",
       "      <td>0.0</td>\n",
       "      <td>NaN</td>\n",
       "      <td>NaN</td>\n",
       "      <td>NaN</td>\n",
       "      <td>NaN</td>\n",
       "      <td>NaN</td>\n",
       "      <td>NaN</td>\n",
       "      <td>NaN</td>\n",
       "    </tr>\n",
       "    <tr>\n",
       "      <th>rental_duration</th>\n",
       "      <td>1000.0</td>\n",
       "      <td>4.985</td>\n",
       "      <td>1.411654</td>\n",
       "      <td>3.00</td>\n",
       "      <td>4.00</td>\n",
       "      <td>5.00</td>\n",
       "      <td>6.00</td>\n",
       "      <td>7.00</td>\n",
       "    </tr>\n",
       "    <tr>\n",
       "      <th>rental_rate</th>\n",
       "      <td>1000.0</td>\n",
       "      <td>2.980</td>\n",
       "      <td>1.646393</td>\n",
       "      <td>0.99</td>\n",
       "      <td>0.99</td>\n",
       "      <td>2.99</td>\n",
       "      <td>4.99</td>\n",
       "      <td>4.99</td>\n",
       "    </tr>\n",
       "    <tr>\n",
       "      <th>length</th>\n",
       "      <td>1000.0</td>\n",
       "      <td>115.272</td>\n",
       "      <td>40.426332</td>\n",
       "      <td>46.00</td>\n",
       "      <td>80.00</td>\n",
       "      <td>114.00</td>\n",
       "      <td>149.25</td>\n",
       "      <td>185.00</td>\n",
       "    </tr>\n",
       "    <tr>\n",
       "      <th>replacement_cost</th>\n",
       "      <td>1000.0</td>\n",
       "      <td>19.984</td>\n",
       "      <td>6.050833</td>\n",
       "      <td>9.99</td>\n",
       "      <td>14.99</td>\n",
       "      <td>19.99</td>\n",
       "      <td>24.99</td>\n",
       "      <td>29.99</td>\n",
       "    </tr>\n",
       "  </tbody>\n",
       "</table>\n",
       "</div>"
      ],
      "text/plain": [
       "                       count      mean         std      min      25%      50%  \\\n",
       "film_id               1000.0   500.500  288.819436     1.00   250.75   500.50   \n",
       "release_year          1000.0  2006.000    0.000000  2006.00  2006.00  2006.00   \n",
       "language_id           1000.0     1.000    0.000000     1.00     1.00     1.00   \n",
       "original_language_id     0.0       NaN         NaN      NaN      NaN      NaN   \n",
       "rental_duration       1000.0     4.985    1.411654     3.00     4.00     5.00   \n",
       "rental_rate           1000.0     2.980    1.646393     0.99     0.99     2.99   \n",
       "length                1000.0   115.272   40.426332    46.00    80.00   114.00   \n",
       "replacement_cost      1000.0    19.984    6.050833     9.99    14.99    19.99   \n",
       "\n",
       "                          75%      max  \n",
       "film_id                750.25  1000.00  \n",
       "release_year          2006.00  2006.00  \n",
       "language_id              1.00     1.00  \n",
       "original_language_id      NaN      NaN  \n",
       "rental_duration          6.00     7.00  \n",
       "rental_rate              4.99     4.99  \n",
       "length                 149.25   185.00  \n",
       "replacement_cost        24.99    29.99  "
      ]
     },
     "execution_count": 9,
     "metadata": {},
     "output_type": "execute_result"
    }
   ],
   "source": [
    "film.describe().T"
   ]
  },
  {
   "cell_type": "markdown",
   "id": "b12b8d6e",
   "metadata": {},
   "source": [
    "## 2.6. Limpieza columna 'film_id'"
   ]
  },
  {
   "cell_type": "code",
   "execution_count": 15,
   "id": "6345a3ae",
   "metadata": {},
   "outputs": [
    {
     "data": {
      "text/plain": [
       "array([ 1,  2,  3,  4,  5,  6,  7,  8,  9, 10])"
      ]
     },
     "execution_count": 15,
     "metadata": {},
     "output_type": "execute_result"
    }
   ],
   "source": [
    "film['film_id'].unique()[:10]"
   ]
  },
  {
   "cell_type": "markdown",
   "id": "a6e9467e",
   "metadata": {},
   "source": [
    "## 2.7. Limpieza columna 'release_year'"
   ]
  },
  {
   "cell_type": "code",
   "execution_count": 16,
   "id": "31c07433",
   "metadata": {},
   "outputs": [
    {
     "data": {
      "text/plain": [
       "array([2006])"
      ]
     },
     "execution_count": 16,
     "metadata": {},
     "output_type": "execute_result"
    }
   ],
   "source": [
    "film['release_year'].unique()"
   ]
  },
  {
   "cell_type": "markdown",
   "id": "e7f8ed9a",
   "metadata": {},
   "source": [
    "## 2.8. Limpieza columna 'language_id'"
   ]
  },
  {
   "cell_type": "code",
   "execution_count": 17,
   "id": "dae1ab3c",
   "metadata": {},
   "outputs": [
    {
     "data": {
      "text/plain": [
       "array([1])"
      ]
     },
     "execution_count": 17,
     "metadata": {},
     "output_type": "execute_result"
    }
   ],
   "source": [
    "film['language_id'].unique()"
   ]
  },
  {
   "cell_type": "markdown",
   "id": "1077eab6",
   "metadata": {},
   "source": [
    "## 2.9. Limpieza columna 'original_language_id'"
   ]
  },
  {
   "cell_type": "code",
   "execution_count": 18,
   "id": "6ac166f6",
   "metadata": {},
   "outputs": [
    {
     "data": {
      "text/plain": [
       "array([nan])"
      ]
     },
     "execution_count": 18,
     "metadata": {},
     "output_type": "execute_result"
    }
   ],
   "source": [
    "film['original_language_id'].unique()"
   ]
  },
  {
   "cell_type": "code",
   "execution_count": 19,
   "id": "255cc045",
   "metadata": {},
   "outputs": [],
   "source": [
    "# Eliminación de la columna \n",
    "\n",
    "del film['original_language_id']"
   ]
  },
  {
   "cell_type": "markdown",
   "id": "b51206fc",
   "metadata": {},
   "source": [
    "## 2.10. Limpieza columna 'rental_duration'"
   ]
  },
  {
   "cell_type": "code",
   "execution_count": 21,
   "id": "b3df3438",
   "metadata": {},
   "outputs": [
    {
     "data": {
      "text/plain": [
       "array([6, 3, 7, 5, 4])"
      ]
     },
     "execution_count": 21,
     "metadata": {},
     "output_type": "execute_result"
    }
   ],
   "source": [
    "film['rental_duration'].unique()"
   ]
  },
  {
   "cell_type": "markdown",
   "id": "debe0787",
   "metadata": {},
   "source": [
    "## 2.11. Limpieza columna 'rental_rate'"
   ]
  },
  {
   "cell_type": "code",
   "execution_count": 23,
   "id": "65252a5f",
   "metadata": {},
   "outputs": [
    {
     "data": {
      "text/plain": [
       "array([0.99, 4.99, 2.99])"
      ]
     },
     "execution_count": 23,
     "metadata": {},
     "output_type": "execute_result"
    }
   ],
   "source": [
    "film['rental_rate'].unique()"
   ]
  },
  {
   "cell_type": "markdown",
   "id": "8858fd2f",
   "metadata": {},
   "source": [
    "## 2.12. Limpieza columna 'length'"
   ]
  },
  {
   "cell_type": "code",
   "execution_count": 24,
   "id": "9a1b278d",
   "metadata": {},
   "outputs": [
    {
     "data": {
      "text/plain": [
       "array([ 86,  48,  50, 117, 130, 169,  62,  54, 114,  63, 126, 136, 150,\n",
       "        94,  46, 180,  82,  57, 113,  79, 129,  85,  92, 181,  74, 179,\n",
       "        91, 168, 119, 153, 147, 127, 121,  68,  99, 148, 137, 170,  83,\n",
       "       108, 118, 162, 182,  75, 173,  87,  65,  90, 122, 160,  89, 175,\n",
       "       106,  73, 151, 100,  53,  77, 142,  93, 163, 103,  61,  71, 102,\n",
       "        76,  98,  72, 176, 123,  56, 161,  60, 133, 125,  67,  52, 120,\n",
       "       167,  70, 135, 112, 183, 110, 152,  51, 146,  66, 185, 124, 107,\n",
       "       101, 132, 143, 165,  81, 164,  58,  95, 139,  55, 149, 109,  59,\n",
       "       172, 115, 184, 166,  64, 104,  69,  84, 144,  88, 141,  47,  49,\n",
       "       177, 154, 159, 178,  96, 116, 171, 140, 155, 158, 174, 138,  97,\n",
       "       131, 156,  80, 145, 111, 128, 157,  78, 105, 134])"
      ]
     },
     "execution_count": 24,
     "metadata": {},
     "output_type": "execute_result"
    }
   ],
   "source": [
    "film['length'].unique()"
   ]
  },
  {
   "cell_type": "markdown",
   "id": "b3d3b7f4",
   "metadata": {},
   "source": [
    "## 2.13. Limpieza columna 'replacement_cost'"
   ]
  },
  {
   "cell_type": "code",
   "execution_count": 25,
   "id": "45105991",
   "metadata": {},
   "outputs": [
    {
     "data": {
      "text/plain": [
       "array([20.99, 12.99, 18.99, 26.99, 22.99, 17.99, 28.99, 15.99, 21.99,\n",
       "       24.99, 16.99, 23.99, 10.99, 14.99, 27.99,  9.99, 19.99, 11.99,\n",
       "       29.99, 25.99, 13.99])"
      ]
     },
     "execution_count": 25,
     "metadata": {},
     "output_type": "execute_result"
    }
   ],
   "source": [
    "film['replacement_cost'].unique()"
   ]
  },
  {
   "cell_type": "markdown",
   "id": "3e5e5134",
   "metadata": {},
   "source": [
    "## 2.14. Exportación de los datos "
   ]
  },
  {
   "cell_type": "code",
   "execution_count": 26,
   "id": "ce01a810",
   "metadata": {},
   "outputs": [],
   "source": [
    "film.to_csv('film_limpio.csv', index = False)"
   ]
  },
  {
   "cell_type": "code",
   "execution_count": null,
   "id": "90bc213c",
   "metadata": {},
   "outputs": [],
   "source": []
  }
 ],
 "metadata": {
  "kernelspec": {
   "display_name": "Python 3 (ipykernel)",
   "language": "python",
   "name": "python3"
  },
  "language_info": {
   "codemirror_mode": {
    "name": "ipython",
    "version": 3
   },
   "file_extension": ".py",
   "mimetype": "text/x-python",
   "name": "python",
   "nbconvert_exporter": "python",
   "pygments_lexer": "ipython3",
   "version": "3.11.4"
  }
 },
 "nbformat": 4,
 "nbformat_minor": 5
}
