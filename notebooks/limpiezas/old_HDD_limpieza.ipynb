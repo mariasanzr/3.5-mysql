{
 "cells": [
  {
   "cell_type": "markdown",
   "id": "a8489fe7",
   "metadata": {},
   "source": [
    "# 1. Importación de librerías"
   ]
  },
  {
   "cell_type": "code",
   "execution_count": 1,
   "id": "38f7bdea",
   "metadata": {},
   "outputs": [],
   "source": [
    "import pandas as pd\n",
    "%run ../../notebooks/funciones.ipynb"
   ]
  },
  {
   "cell_type": "markdown",
   "id": "5851166b",
   "metadata": {},
   "source": [
    "# 2. 'old_HDD.csv'"
   ]
  },
  {
   "cell_type": "markdown",
   "id": "e2a852f9",
   "metadata": {},
   "source": [
    " ## 2.1. Importación del archivo y creación del dataframe"
   ]
  },
  {
   "cell_type": "code",
   "execution_count": 2,
   "id": "322131a3",
   "metadata": {},
   "outputs": [
    {
     "data": {
      "text/html": [
       "<div>\n",
       "<style scoped>\n",
       "    .dataframe tbody tr th:only-of-type {\n",
       "        vertical-align: middle;\n",
       "    }\n",
       "\n",
       "    .dataframe tbody tr th {\n",
       "        vertical-align: top;\n",
       "    }\n",
       "\n",
       "    .dataframe thead th {\n",
       "        text-align: right;\n",
       "    }\n",
       "</style>\n",
       "<table border=\"1\" class=\"dataframe\">\n",
       "  <thead>\n",
       "    <tr style=\"text-align: right;\">\n",
       "      <th></th>\n",
       "      <th>first_name</th>\n",
       "      <th>last_name</th>\n",
       "      <th>title</th>\n",
       "      <th>release_year</th>\n",
       "      <th>category_id</th>\n",
       "    </tr>\n",
       "  </thead>\n",
       "  <tbody>\n",
       "    <tr>\n",
       "      <th>0</th>\n",
       "      <td>PENELOPE</td>\n",
       "      <td>GUINESS</td>\n",
       "      <td>ACADEMY DINOSAUR</td>\n",
       "      <td>2006</td>\n",
       "      <td>6</td>\n",
       "    </tr>\n",
       "    <tr>\n",
       "      <th>1</th>\n",
       "      <td>PENELOPE</td>\n",
       "      <td>GUINESS</td>\n",
       "      <td>ANACONDA CONFESSIONS</td>\n",
       "      <td>2006</td>\n",
       "      <td>2</td>\n",
       "    </tr>\n",
       "    <tr>\n",
       "      <th>2</th>\n",
       "      <td>PENELOPE</td>\n",
       "      <td>GUINESS</td>\n",
       "      <td>ANGELS LIFE</td>\n",
       "      <td>2006</td>\n",
       "      <td>13</td>\n",
       "    </tr>\n",
       "    <tr>\n",
       "      <th>3</th>\n",
       "      <td>PENELOPE</td>\n",
       "      <td>GUINESS</td>\n",
       "      <td>BULWORTH COMMANDMENTS</td>\n",
       "      <td>2006</td>\n",
       "      <td>10</td>\n",
       "    </tr>\n",
       "    <tr>\n",
       "      <th>4</th>\n",
       "      <td>PENELOPE</td>\n",
       "      <td>GUINESS</td>\n",
       "      <td>CHEAPER CLYDE</td>\n",
       "      <td>2006</td>\n",
       "      <td>14</td>\n",
       "    </tr>\n",
       "    <tr>\n",
       "      <th>...</th>\n",
       "      <td>...</td>\n",
       "      <td>...</td>\n",
       "      <td>...</td>\n",
       "      <td>...</td>\n",
       "      <td>...</td>\n",
       "    </tr>\n",
       "    <tr>\n",
       "      <th>995</th>\n",
       "      <td>GOLDIE</td>\n",
       "      <td>BRODY</td>\n",
       "      <td>COMANCHEROS ENEMY</td>\n",
       "      <td>2006</td>\n",
       "      <td>3</td>\n",
       "    </tr>\n",
       "    <tr>\n",
       "      <th>996</th>\n",
       "      <td>GOLDIE</td>\n",
       "      <td>BRODY</td>\n",
       "      <td>DAISY MENAGERIE</td>\n",
       "      <td>2006</td>\n",
       "      <td>14</td>\n",
       "    </tr>\n",
       "    <tr>\n",
       "      <th>997</th>\n",
       "      <td>GOLDIE</td>\n",
       "      <td>BRODY</td>\n",
       "      <td>DESERT POSEIDON</td>\n",
       "      <td>2006</td>\n",
       "      <td>11</td>\n",
       "    </tr>\n",
       "    <tr>\n",
       "      <th>998</th>\n",
       "      <td>GOLDIE</td>\n",
       "      <td>BRODY</td>\n",
       "      <td>EVERYONE CRAFT</td>\n",
       "      <td>2006</td>\n",
       "      <td>9</td>\n",
       "    </tr>\n",
       "    <tr>\n",
       "      <th>999</th>\n",
       "      <td>GOLDIE</td>\n",
       "      <td>BRODY</td>\n",
       "      <td>EXORCIST STING</td>\n",
       "      <td>2006</td>\n",
       "      <td>15</td>\n",
       "    </tr>\n",
       "  </tbody>\n",
       "</table>\n",
       "<p>1000 rows × 5 columns</p>\n",
       "</div>"
      ],
      "text/plain": [
       "    first_name last_name                  title  release_year  category_id\n",
       "0     PENELOPE   GUINESS       ACADEMY DINOSAUR          2006            6\n",
       "1     PENELOPE   GUINESS   ANACONDA CONFESSIONS          2006            2\n",
       "2     PENELOPE   GUINESS            ANGELS LIFE          2006           13\n",
       "3     PENELOPE   GUINESS  BULWORTH COMMANDMENTS          2006           10\n",
       "4     PENELOPE   GUINESS          CHEAPER CLYDE          2006           14\n",
       "..         ...       ...                    ...           ...          ...\n",
       "995     GOLDIE     BRODY      COMANCHEROS ENEMY          2006            3\n",
       "996     GOLDIE     BRODY        DAISY MENAGERIE          2006           14\n",
       "997     GOLDIE     BRODY        DESERT POSEIDON          2006           11\n",
       "998     GOLDIE     BRODY         EVERYONE CRAFT          2006            9\n",
       "999     GOLDIE     BRODY         EXORCIST STING          2006           15\n",
       "\n",
       "[1000 rows x 5 columns]"
      ]
     },
     "metadata": {},
     "output_type": "display_data"
    }
   ],
   "source": [
    "old = pd.read_csv('../../../3.5-mysql/data/old_HDD.csv', encoding = 'latin1')\n",
    "display(old)"
   ]
  },
  {
   "cell_type": "markdown",
   "id": "c6d870dd",
   "metadata": {},
   "source": [
    "## 2.2. Elementos totales del data frame (número de filas multiplicado por el número de columnas)"
   ]
  },
  {
   "cell_type": "code",
   "execution_count": 3,
   "id": "a7237559",
   "metadata": {},
   "outputs": [
    {
     "data": {
      "text/plain": [
       "18"
      ]
     },
     "execution_count": 3,
     "metadata": {},
     "output_type": "execute_result"
    }
   ],
   "source": [
    "language.size"
   ]
  },
  {
   "cell_type": "markdown",
   "id": "54a387de",
   "metadata": {},
   "source": [
    "## 2.3. Número de filas y número de columnas"
   ]
  },
  {
   "cell_type": "code",
   "execution_count": 4,
   "id": "b00d25ca",
   "metadata": {},
   "outputs": [
    {
     "data": {
      "text/plain": [
       "(6, 3)"
      ]
     },
     "execution_count": 4,
     "metadata": {},
     "output_type": "execute_result"
    }
   ],
   "source": [
    "language.shape"
   ]
  },
  {
   "cell_type": "markdown",
   "id": "3a2777d0",
   "metadata": {},
   "source": [
    "## 2.4. Información general del data frame"
   ]
  },
  {
   "cell_type": "code",
   "execution_count": 5,
   "id": "bfd0da1c",
   "metadata": {
    "scrolled": true
   },
   "outputs": [
    {
     "name": "stdout",
     "output_type": "stream",
     "text": [
      "<class 'pandas.core.frame.DataFrame'>\n",
      "RangeIndex: 6 entries, 0 to 5\n",
      "Data columns (total 3 columns):\n",
      " #   Column       Non-Null Count  Dtype \n",
      "---  ------       --------------  ----- \n",
      " 0   language_id  6 non-null      int64 \n",
      " 1   name         6 non-null      object\n",
      " 2   last_update  6 non-null      object\n",
      "dtypes: int64(1), object(2)\n",
      "memory usage: 276.0+ bytes\n"
     ]
    }
   ],
   "source": [
    "language.info()"
   ]
  },
  {
   "cell_type": "markdown",
   "id": "b62f98b8",
   "metadata": {},
   "source": [
    "## 2.5. Estadísticas"
   ]
  },
  {
   "cell_type": "code",
   "execution_count": 6,
   "id": "82cef812",
   "metadata": {},
   "outputs": [
    {
     "data": {
      "text/html": [
       "<div>\n",
       "<style scoped>\n",
       "    .dataframe tbody tr th:only-of-type {\n",
       "        vertical-align: middle;\n",
       "    }\n",
       "\n",
       "    .dataframe tbody tr th {\n",
       "        vertical-align: top;\n",
       "    }\n",
       "\n",
       "    .dataframe thead th {\n",
       "        text-align: right;\n",
       "    }\n",
       "</style>\n",
       "<table border=\"1\" class=\"dataframe\">\n",
       "  <thead>\n",
       "    <tr style=\"text-align: right;\">\n",
       "      <th></th>\n",
       "      <th>count</th>\n",
       "      <th>mean</th>\n",
       "      <th>std</th>\n",
       "      <th>min</th>\n",
       "      <th>25%</th>\n",
       "      <th>50%</th>\n",
       "      <th>75%</th>\n",
       "      <th>max</th>\n",
       "    </tr>\n",
       "  </thead>\n",
       "  <tbody>\n",
       "    <tr>\n",
       "      <th>language_id</th>\n",
       "      <td>6.0</td>\n",
       "      <td>3.5</td>\n",
       "      <td>1.870829</td>\n",
       "      <td>1.0</td>\n",
       "      <td>2.25</td>\n",
       "      <td>3.5</td>\n",
       "      <td>4.75</td>\n",
       "      <td>6.0</td>\n",
       "    </tr>\n",
       "  </tbody>\n",
       "</table>\n",
       "</div>"
      ],
      "text/plain": [
       "             count  mean       std  min   25%  50%   75%  max\n",
       "language_id    6.0   3.5  1.870829  1.0  2.25  3.5  4.75  6.0"
      ]
     },
     "execution_count": 6,
     "metadata": {},
     "output_type": "execute_result"
    }
   ],
   "source": [
    "language.describe().T"
   ]
  },
  {
   "cell_type": "markdown",
   "id": "b12b8d6e",
   "metadata": {},
   "source": [
    "## 2.6. Limpieza columna 'language_id'"
   ]
  },
  {
   "cell_type": "code",
   "execution_count": 7,
   "id": "6345a3ae",
   "metadata": {
    "scrolled": true
   },
   "outputs": [
    {
     "data": {
      "text/plain": [
       "array([1, 2, 3, 4, 5, 6])"
      ]
     },
     "execution_count": 7,
     "metadata": {},
     "output_type": "execute_result"
    }
   ],
   "source": [
    "language['language_id'].unique()[:10]"
   ]
  },
  {
   "cell_type": "markdown",
   "id": "154cb852",
   "metadata": {},
   "source": [
    "## 2.7. Limpieza columna 'name'"
   ]
  },
  {
   "cell_type": "code",
   "execution_count": 8,
   "id": "eeb0f333",
   "metadata": {},
   "outputs": [
    {
     "data": {
      "text/plain": [
       "array(['English', 'Italian', 'Japanese', 'Mandarin', 'French', 'German'],\n",
       "      dtype=object)"
      ]
     },
     "execution_count": 8,
     "metadata": {},
     "output_type": "execute_result"
    }
   ],
   "source": [
    "language['name'].unique()[:10]"
   ]
  },
  {
   "cell_type": "markdown",
   "id": "51781da7",
   "metadata": {},
   "source": [
    "## 2.8. Limpieza columna 'last_update'"
   ]
  },
  {
   "cell_type": "code",
   "execution_count": 9,
   "id": "a17f7e47",
   "metadata": {},
   "outputs": [
    {
     "data": {
      "text/plain": [
       "array(['2006-02-15 05:02:19'], dtype=object)"
      ]
     },
     "execution_count": 9,
     "metadata": {},
     "output_type": "execute_result"
    }
   ],
   "source": [
    "language['last_update'].unique()"
   ]
  },
  {
   "cell_type": "code",
   "execution_count": 10,
   "id": "4a02ebc6",
   "metadata": {},
   "outputs": [
    {
     "data": {
      "text/plain": [
       "language_id             int64\n",
       "name                   object\n",
       "last_update    datetime64[ns]\n",
       "dtype: object"
      ]
     },
     "execution_count": 10,
     "metadata": {},
     "output_type": "execute_result"
    }
   ],
   "source": [
    "# Cambio del tipo de dato de object a date time\n",
    "\n",
    "language['last_update'] = pd.to_datetime(language['last_update'])\n",
    "\n",
    "language.dtypes"
   ]
  },
  {
   "cell_type": "markdown",
   "id": "88a47376",
   "metadata": {},
   "source": [
    "## 2.9. Exportación de los datos "
   ]
  },
  {
   "cell_type": "code",
   "execution_count": 11,
   "id": "41474d8c",
   "metadata": {},
   "outputs": [],
   "source": [
    "language.to_csv('language_limpio.csv', index = False)"
   ]
  },
  {
   "cell_type": "code",
   "execution_count": null,
   "id": "fdd0728e",
   "metadata": {},
   "outputs": [],
   "source": []
  }
 ],
 "metadata": {
  "kernelspec": {
   "display_name": "Python 3 (ipykernel)",
   "language": "python",
   "name": "python3"
  },
  "language_info": {
   "codemirror_mode": {
    "name": "ipython",
    "version": 3
   },
   "file_extension": ".py",
   "mimetype": "text/x-python",
   "name": "python",
   "nbconvert_exporter": "python",
   "pygments_lexer": "ipython3",
   "version": "3.11.4"
  }
 },
 "nbformat": 4,
 "nbformat_minor": 5
}
