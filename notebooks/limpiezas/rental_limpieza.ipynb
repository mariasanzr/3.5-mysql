{
 "cells": [
  {
   "cell_type": "markdown",
   "id": "a8489fe7",
   "metadata": {},
   "source": [
    "# 1. Importación de librerías"
   ]
  },
  {
   "cell_type": "code",
   "execution_count": 1,
   "id": "38f7bdea",
   "metadata": {},
   "outputs": [],
   "source": [
    "import pandas as pd\n",
    "%run ../../notebooks/funciones.ipynb"
   ]
  },
  {
   "cell_type": "markdown",
   "id": "5851166b",
   "metadata": {},
   "source": [
    "# 2. 'rental.csv'"
   ]
  },
  {
   "cell_type": "markdown",
   "id": "e2a852f9",
   "metadata": {},
   "source": [
    " ## 2.1. Importación del archivo y creación del dataframe"
   ]
  },
  {
   "cell_type": "code",
   "execution_count": 2,
   "id": "322131a3",
   "metadata": {},
   "outputs": [
    {
     "data": {
      "text/html": [
       "<div>\n",
       "<style scoped>\n",
       "    .dataframe tbody tr th:only-of-type {\n",
       "        vertical-align: middle;\n",
       "    }\n",
       "\n",
       "    .dataframe tbody tr th {\n",
       "        vertical-align: top;\n",
       "    }\n",
       "\n",
       "    .dataframe thead th {\n",
       "        text-align: right;\n",
       "    }\n",
       "</style>\n",
       "<table border=\"1\" class=\"dataframe\">\n",
       "  <thead>\n",
       "    <tr style=\"text-align: right;\">\n",
       "      <th></th>\n",
       "      <th>rental_id</th>\n",
       "      <th>rental_date</th>\n",
       "      <th>inventory_id</th>\n",
       "      <th>customer_id</th>\n",
       "      <th>return_date</th>\n",
       "      <th>staff_id</th>\n",
       "      <th>last_update</th>\n",
       "    </tr>\n",
       "  </thead>\n",
       "  <tbody>\n",
       "    <tr>\n",
       "      <th>0</th>\n",
       "      <td>1</td>\n",
       "      <td>2005-05-24 22:53:30</td>\n",
       "      <td>367</td>\n",
       "      <td>130</td>\n",
       "      <td>2005-05-26 22:04:30</td>\n",
       "      <td>1</td>\n",
       "      <td>2006-02-15 21:30:53</td>\n",
       "    </tr>\n",
       "    <tr>\n",
       "      <th>1</th>\n",
       "      <td>2</td>\n",
       "      <td>2005-05-24 22:54:33</td>\n",
       "      <td>1525</td>\n",
       "      <td>459</td>\n",
       "      <td>2005-05-28 19:40:33</td>\n",
       "      <td>1</td>\n",
       "      <td>2006-02-15 21:30:53</td>\n",
       "    </tr>\n",
       "    <tr>\n",
       "      <th>2</th>\n",
       "      <td>3</td>\n",
       "      <td>2005-05-24 23:03:39</td>\n",
       "      <td>1711</td>\n",
       "      <td>408</td>\n",
       "      <td>2005-06-01 22:12:39</td>\n",
       "      <td>1</td>\n",
       "      <td>2006-02-15 21:30:53</td>\n",
       "    </tr>\n",
       "    <tr>\n",
       "      <th>3</th>\n",
       "      <td>4</td>\n",
       "      <td>2005-05-24 23:04:41</td>\n",
       "      <td>2452</td>\n",
       "      <td>333</td>\n",
       "      <td>2005-06-03 01:43:41</td>\n",
       "      <td>2</td>\n",
       "      <td>2006-02-15 21:30:53</td>\n",
       "    </tr>\n",
       "    <tr>\n",
       "      <th>4</th>\n",
       "      <td>5</td>\n",
       "      <td>2005-05-24 23:05:21</td>\n",
       "      <td>2079</td>\n",
       "      <td>222</td>\n",
       "      <td>2005-06-02 04:33:21</td>\n",
       "      <td>1</td>\n",
       "      <td>2006-02-15 21:30:53</td>\n",
       "    </tr>\n",
       "    <tr>\n",
       "      <th>...</th>\n",
       "      <td>...</td>\n",
       "      <td>...</td>\n",
       "      <td>...</td>\n",
       "      <td>...</td>\n",
       "      <td>...</td>\n",
       "      <td>...</td>\n",
       "      <td>...</td>\n",
       "    </tr>\n",
       "    <tr>\n",
       "      <th>995</th>\n",
       "      <td>997</td>\n",
       "      <td>2005-05-31 00:08:25</td>\n",
       "      <td>4243</td>\n",
       "      <td>216</td>\n",
       "      <td>2005-06-02 00:17:25</td>\n",
       "      <td>2</td>\n",
       "      <td>2006-02-15 21:30:53</td>\n",
       "    </tr>\n",
       "    <tr>\n",
       "      <th>996</th>\n",
       "      <td>998</td>\n",
       "      <td>2005-05-31 00:16:57</td>\n",
       "      <td>3395</td>\n",
       "      <td>389</td>\n",
       "      <td>2005-06-01 22:41:57</td>\n",
       "      <td>1</td>\n",
       "      <td>2006-02-15 21:30:53</td>\n",
       "    </tr>\n",
       "    <tr>\n",
       "      <th>997</th>\n",
       "      <td>999</td>\n",
       "      <td>2005-05-31 00:25:10</td>\n",
       "      <td>4433</td>\n",
       "      <td>413</td>\n",
       "      <td>2005-06-03 06:05:10</td>\n",
       "      <td>2</td>\n",
       "      <td>2006-02-15 21:30:53</td>\n",
       "    </tr>\n",
       "    <tr>\n",
       "      <th>998</th>\n",
       "      <td>1000</td>\n",
       "      <td>2005-05-31 00:25:56</td>\n",
       "      <td>1774</td>\n",
       "      <td>332</td>\n",
       "      <td>2005-06-08 19:42:56</td>\n",
       "      <td>2</td>\n",
       "      <td>2006-02-15 21:30:53</td>\n",
       "    </tr>\n",
       "    <tr>\n",
       "      <th>999</th>\n",
       "      <td>1001</td>\n",
       "      <td>2005-05-31 00:46:31</td>\n",
       "      <td>1498</td>\n",
       "      <td>64</td>\n",
       "      <td>2005-06-06 06:14:31</td>\n",
       "      <td>2</td>\n",
       "      <td>2006-02-15 21:30:53</td>\n",
       "    </tr>\n",
       "  </tbody>\n",
       "</table>\n",
       "<p>1000 rows × 7 columns</p>\n",
       "</div>"
      ],
      "text/plain": [
       "     rental_id          rental_date  inventory_id  customer_id  \\\n",
       "0            1  2005-05-24 22:53:30           367          130   \n",
       "1            2  2005-05-24 22:54:33          1525          459   \n",
       "2            3  2005-05-24 23:03:39          1711          408   \n",
       "3            4  2005-05-24 23:04:41          2452          333   \n",
       "4            5  2005-05-24 23:05:21          2079          222   \n",
       "..         ...                  ...           ...          ...   \n",
       "995        997  2005-05-31 00:08:25          4243          216   \n",
       "996        998  2005-05-31 00:16:57          3395          389   \n",
       "997        999  2005-05-31 00:25:10          4433          413   \n",
       "998       1000  2005-05-31 00:25:56          1774          332   \n",
       "999       1001  2005-05-31 00:46:31          1498           64   \n",
       "\n",
       "             return_date  staff_id          last_update  \n",
       "0    2005-05-26 22:04:30         1  2006-02-15 21:30:53  \n",
       "1    2005-05-28 19:40:33         1  2006-02-15 21:30:53  \n",
       "2    2005-06-01 22:12:39         1  2006-02-15 21:30:53  \n",
       "3    2005-06-03 01:43:41         2  2006-02-15 21:30:53  \n",
       "4    2005-06-02 04:33:21         1  2006-02-15 21:30:53  \n",
       "..                   ...       ...                  ...  \n",
       "995  2005-06-02 00:17:25         2  2006-02-15 21:30:53  \n",
       "996  2005-06-01 22:41:57         1  2006-02-15 21:30:53  \n",
       "997  2005-06-03 06:05:10         2  2006-02-15 21:30:53  \n",
       "998  2005-06-08 19:42:56         2  2006-02-15 21:30:53  \n",
       "999  2005-06-06 06:14:31         2  2006-02-15 21:30:53  \n",
       "\n",
       "[1000 rows x 7 columns]"
      ]
     },
     "metadata": {},
     "output_type": "display_data"
    }
   ],
   "source": [
    "rental = pd.read_csv('../../../3.5-mysql/data/rental.csv', encoding = 'latin1')\n",
    "display(rental)"
   ]
  },
  {
   "cell_type": "markdown",
   "id": "c6d870dd",
   "metadata": {},
   "source": [
    "## 2.2. Elementos totales del data frame (número de filas multiplicado por el número de columnas)"
   ]
  },
  {
   "cell_type": "code",
   "execution_count": 3,
   "id": "a7237559",
   "metadata": {},
   "outputs": [
    {
     "data": {
      "text/plain": [
       "7000"
      ]
     },
     "execution_count": 3,
     "metadata": {},
     "output_type": "execute_result"
    }
   ],
   "source": [
    "rental.size"
   ]
  },
  {
   "cell_type": "markdown",
   "id": "54a387de",
   "metadata": {},
   "source": [
    "## 2.3. Número de filas y número de columnas"
   ]
  },
  {
   "cell_type": "code",
   "execution_count": 4,
   "id": "b00d25ca",
   "metadata": {},
   "outputs": [
    {
     "data": {
      "text/plain": [
       "(1000, 7)"
      ]
     },
     "execution_count": 4,
     "metadata": {},
     "output_type": "execute_result"
    }
   ],
   "source": [
    "rental.shape"
   ]
  },
  {
   "cell_type": "markdown",
   "id": "3a2777d0",
   "metadata": {},
   "source": [
    "## 2.4. Información general del data frame"
   ]
  },
  {
   "cell_type": "code",
   "execution_count": 5,
   "id": "bfd0da1c",
   "metadata": {
    "scrolled": true
   },
   "outputs": [
    {
     "name": "stdout",
     "output_type": "stream",
     "text": [
      "<class 'pandas.core.frame.DataFrame'>\n",
      "RangeIndex: 1000 entries, 0 to 999\n",
      "Data columns (total 7 columns):\n",
      " #   Column        Non-Null Count  Dtype \n",
      "---  ------        --------------  ----- \n",
      " 0   rental_id     1000 non-null   int64 \n",
      " 1   rental_date   1000 non-null   object\n",
      " 2   inventory_id  1000 non-null   int64 \n",
      " 3   customer_id   1000 non-null   int64 \n",
      " 4   return_date   1000 non-null   object\n",
      " 5   staff_id      1000 non-null   int64 \n",
      " 6   last_update   1000 non-null   object\n",
      "dtypes: int64(4), object(3)\n",
      "memory usage: 54.8+ KB\n"
     ]
    }
   ],
   "source": [
    "rental.info()"
   ]
  },
  {
   "cell_type": "markdown",
   "id": "b62f98b8",
   "metadata": {},
   "source": [
    "## 2.5. Estadísticas"
   ]
  },
  {
   "cell_type": "code",
   "execution_count": 6,
   "id": "82cef812",
   "metadata": {},
   "outputs": [
    {
     "data": {
      "text/html": [
       "<div>\n",
       "<style scoped>\n",
       "    .dataframe tbody tr th:only-of-type {\n",
       "        vertical-align: middle;\n",
       "    }\n",
       "\n",
       "    .dataframe tbody tr th {\n",
       "        vertical-align: top;\n",
       "    }\n",
       "\n",
       "    .dataframe thead th {\n",
       "        text-align: right;\n",
       "    }\n",
       "</style>\n",
       "<table border=\"1\" class=\"dataframe\">\n",
       "  <thead>\n",
       "    <tr style=\"text-align: right;\">\n",
       "      <th></th>\n",
       "      <th>count</th>\n",
       "      <th>mean</th>\n",
       "      <th>std</th>\n",
       "      <th>min</th>\n",
       "      <th>25%</th>\n",
       "      <th>50%</th>\n",
       "      <th>75%</th>\n",
       "      <th>max</th>\n",
       "    </tr>\n",
       "  </thead>\n",
       "  <tbody>\n",
       "    <tr>\n",
       "      <th>rental_id</th>\n",
       "      <td>1000.0</td>\n",
       "      <td>501.180</td>\n",
       "      <td>289.196650</td>\n",
       "      <td>1.0</td>\n",
       "      <td>250.75</td>\n",
       "      <td>501.5</td>\n",
       "      <td>751.25</td>\n",
       "      <td>1001.0</td>\n",
       "    </tr>\n",
       "    <tr>\n",
       "      <th>inventory_id</th>\n",
       "      <td>1000.0</td>\n",
       "      <td>2258.179</td>\n",
       "      <td>1314.667454</td>\n",
       "      <td>2.0</td>\n",
       "      <td>1157.50</td>\n",
       "      <td>2244.5</td>\n",
       "      <td>3371.75</td>\n",
       "      <td>4581.0</td>\n",
       "    </tr>\n",
       "    <tr>\n",
       "      <th>customer_id</th>\n",
       "      <td>1000.0</td>\n",
       "      <td>296.408</td>\n",
       "      <td>172.509319</td>\n",
       "      <td>1.0</td>\n",
       "      <td>150.00</td>\n",
       "      <td>296.0</td>\n",
       "      <td>445.25</td>\n",
       "      <td>597.0</td>\n",
       "    </tr>\n",
       "    <tr>\n",
       "      <th>staff_id</th>\n",
       "      <td>1000.0</td>\n",
       "      <td>1.521</td>\n",
       "      <td>0.499809</td>\n",
       "      <td>1.0</td>\n",
       "      <td>1.00</td>\n",
       "      <td>2.0</td>\n",
       "      <td>2.00</td>\n",
       "      <td>2.0</td>\n",
       "    </tr>\n",
       "  </tbody>\n",
       "</table>\n",
       "</div>"
      ],
      "text/plain": [
       "               count      mean          std  min      25%     50%      75%  \\\n",
       "rental_id     1000.0   501.180   289.196650  1.0   250.75   501.5   751.25   \n",
       "inventory_id  1000.0  2258.179  1314.667454  2.0  1157.50  2244.5  3371.75   \n",
       "customer_id   1000.0   296.408   172.509319  1.0   150.00   296.0   445.25   \n",
       "staff_id      1000.0     1.521     0.499809  1.0     1.00     2.0     2.00   \n",
       "\n",
       "                 max  \n",
       "rental_id     1001.0  \n",
       "inventory_id  4581.0  \n",
       "customer_id    597.0  \n",
       "staff_id         2.0  "
      ]
     },
     "execution_count": 6,
     "metadata": {},
     "output_type": "execute_result"
    }
   ],
   "source": [
    "rental.describe().T"
   ]
  },
  {
   "cell_type": "markdown",
   "id": "b12b8d6e",
   "metadata": {},
   "source": [
    "## 2.6. Limpieza columna 'rental_id'"
   ]
  },
  {
   "cell_type": "code",
   "execution_count": 7,
   "id": "6345a3ae",
   "metadata": {
    "scrolled": true
   },
   "outputs": [
    {
     "data": {
      "text/plain": [
       "array([ 1,  2,  3,  4,  5,  6,  7,  8,  9, 10])"
      ]
     },
     "execution_count": 7,
     "metadata": {},
     "output_type": "execute_result"
    }
   ],
   "source": [
    "rental['rental_id'].unique()[:10]"
   ]
  },
  {
   "cell_type": "markdown",
   "id": "154cb852",
   "metadata": {},
   "source": [
    "## 2.7. Limpieza columna 'rental_date'"
   ]
  },
  {
   "cell_type": "code",
   "execution_count": 8,
   "id": "eeb0f333",
   "metadata": {
    "scrolled": true
   },
   "outputs": [
    {
     "data": {
      "text/plain": [
       "array(['2005-05-24 22:53:30', '2005-05-24 22:54:33',\n",
       "       '2005-05-24 23:03:39', '2005-05-24 23:04:41',\n",
       "       '2005-05-24 23:05:21', '2005-05-24 23:08:07',\n",
       "       '2005-05-24 23:11:53', '2005-05-24 23:31:46',\n",
       "       '2005-05-25 00:00:40', '2005-05-25 00:02:21'], dtype=object)"
      ]
     },
     "execution_count": 8,
     "metadata": {},
     "output_type": "execute_result"
    }
   ],
   "source": [
    "rental['rental_date'].unique()[:10]"
   ]
  },
  {
   "cell_type": "code",
   "execution_count": 9,
   "id": "72aee8b3",
   "metadata": {
    "scrolled": true
   },
   "outputs": [
    {
     "data": {
      "text/plain": [
       "rental_id                int64\n",
       "rental_date     datetime64[ns]\n",
       "inventory_id             int64\n",
       "customer_id              int64\n",
       "return_date             object\n",
       "staff_id                 int64\n",
       "last_update             object\n",
       "dtype: object"
      ]
     },
     "execution_count": 9,
     "metadata": {},
     "output_type": "execute_result"
    }
   ],
   "source": [
    "# Cambio del tipo de dato de object a date time\n",
    "\n",
    "rental['rental_date'] = pd.to_datetime(rental['rental_date'])\n",
    "\n",
    "rental.dtypes"
   ]
  },
  {
   "cell_type": "markdown",
   "id": "04534762",
   "metadata": {},
   "source": [
    "## 2.8. Limpieza columna 'inventory_id'"
   ]
  },
  {
   "cell_type": "code",
   "execution_count": 10,
   "id": "28681a41",
   "metadata": {},
   "outputs": [
    {
     "data": {
      "text/plain": [
       "array([ 367, 1525, 1711, 2452, 2079, 2792, 3995, 2346, 2580, 1824])"
      ]
     },
     "execution_count": 10,
     "metadata": {},
     "output_type": "execute_result"
    }
   ],
   "source": [
    "rental['inventory_id'].unique()[:10]"
   ]
  },
  {
   "cell_type": "markdown",
   "id": "a4f8b0cc",
   "metadata": {},
   "source": [
    "## 2.9 Limpieza columna 'customer_id'"
   ]
  },
  {
   "cell_type": "code",
   "execution_count": 11,
   "id": "e100a671",
   "metadata": {},
   "outputs": [
    {
     "data": {
      "text/plain": [
       "array([130, 459, 408, 333, 222, 549, 269, 239, 126, 399])"
      ]
     },
     "execution_count": 11,
     "metadata": {},
     "output_type": "execute_result"
    }
   ],
   "source": [
    "rental['customer_id'].unique()[:10]"
   ]
  },
  {
   "cell_type": "markdown",
   "id": "cdacb9ef",
   "metadata": {},
   "source": [
    "## 2.10. Limpieza columna 'return_date'"
   ]
  },
  {
   "cell_type": "code",
   "execution_count": 12,
   "id": "07673135",
   "metadata": {
    "scrolled": true
   },
   "outputs": [
    {
     "data": {
      "text/plain": [
       "array(['2005-05-26 22:04:30', '2005-05-28 19:40:33',\n",
       "       '2005-06-01 22:12:39', '2005-06-03 01:43:41',\n",
       "       '2005-06-02 04:33:21', '2005-05-27 01:32:07',\n",
       "       '2005-05-29 20:34:53', '2005-05-27 23:33:46',\n",
       "       '2005-05-28 00:22:40', '2005-05-31 22:44:21'], dtype=object)"
      ]
     },
     "execution_count": 12,
     "metadata": {},
     "output_type": "execute_result"
    }
   ],
   "source": [
    "rental['return_date'].unique()[:10]"
   ]
  },
  {
   "cell_type": "code",
   "execution_count": 13,
   "id": "1f099fc6",
   "metadata": {
    "scrolled": true
   },
   "outputs": [
    {
     "data": {
      "text/plain": [
       "rental_id                int64\n",
       "rental_date     datetime64[ns]\n",
       "inventory_id             int64\n",
       "customer_id              int64\n",
       "return_date     datetime64[ns]\n",
       "staff_id                 int64\n",
       "last_update             object\n",
       "dtype: object"
      ]
     },
     "execution_count": 13,
     "metadata": {},
     "output_type": "execute_result"
    }
   ],
   "source": [
    "# Cambio del tipo de dato de object a date time\n",
    "\n",
    "rental['return_date'] = pd.to_datetime(rental['rental_date'])\n",
    "\n",
    "rental.dtypes"
   ]
  },
  {
   "cell_type": "markdown",
   "id": "20938574",
   "metadata": {},
   "source": [
    "## 2.11. Limpieza columna 'staff_id'"
   ]
  },
  {
   "cell_type": "code",
   "execution_count": 14,
   "id": "2ae7f56b",
   "metadata": {},
   "outputs": [
    {
     "data": {
      "text/plain": [
       "array([1, 2])"
      ]
     },
     "execution_count": 14,
     "metadata": {},
     "output_type": "execute_result"
    }
   ],
   "source": [
    "rental['staff_id'].unique()"
   ]
  },
  {
   "cell_type": "markdown",
   "id": "75abf8f8",
   "metadata": {},
   "source": [
    "## 2.12. Limpieza columna 'last_update'"
   ]
  },
  {
   "cell_type": "code",
   "execution_count": 15,
   "id": "2ab5404a",
   "metadata": {},
   "outputs": [
    {
     "data": {
      "text/plain": [
       "array(['2006-02-15 21:30:53'], dtype=object)"
      ]
     },
     "execution_count": 15,
     "metadata": {},
     "output_type": "execute_result"
    }
   ],
   "source": [
    "rental['last_update'].unique()"
   ]
  },
  {
   "cell_type": "code",
   "execution_count": 16,
   "id": "35f24527",
   "metadata": {},
   "outputs": [
    {
     "data": {
      "text/plain": [
       "rental_id                int64\n",
       "rental_date     datetime64[ns]\n",
       "inventory_id             int64\n",
       "customer_id              int64\n",
       "return_date     datetime64[ns]\n",
       "staff_id                 int64\n",
       "last_update     datetime64[ns]\n",
       "dtype: object"
      ]
     },
     "execution_count": 16,
     "metadata": {},
     "output_type": "execute_result"
    }
   ],
   "source": [
    "# Cambio del tipo de dato de object a date time\n",
    "\n",
    "rental['last_update'] = pd.to_datetime(rental['last_update'])\n",
    "\n",
    "rental.dtypes"
   ]
  },
  {
   "cell_type": "markdown",
   "id": "88a47376",
   "metadata": {},
   "source": [
    "## 2.1. Exportación de los datos "
   ]
  },
  {
   "cell_type": "code",
   "execution_count": 17,
   "id": "41474d8c",
   "metadata": {},
   "outputs": [],
   "source": [
    "rental.to_csv('rental_limpio.csv', index = False)"
   ]
  },
  {
   "cell_type": "code",
   "execution_count": null,
   "id": "e88a8e8c",
   "metadata": {},
   "outputs": [],
   "source": []
  }
 ],
 "metadata": {
  "kernelspec": {
   "display_name": "Python 3 (ipykernel)",
   "language": "python",
   "name": "python3"
  },
  "language_info": {
   "codemirror_mode": {
    "name": "ipython",
    "version": 3
   },
   "file_extension": ".py",
   "mimetype": "text/x-python",
   "name": "python",
   "nbconvert_exporter": "python",
   "pygments_lexer": "ipython3",
   "version": "3.11.4"
  }
 },
 "nbformat": 4,
 "nbformat_minor": 5
}
