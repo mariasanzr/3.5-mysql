{
 "cells": [
  {
   "cell_type": "markdown",
   "id": "a8489fe7",
   "metadata": {},
   "source": [
    "# 1. Importación de librerías"
   ]
  },
  {
   "cell_type": "code",
   "execution_count": 1,
   "id": "38f7bdea",
   "metadata": {},
   "outputs": [],
   "source": [
    "import pandas as pd\n",
    "%run ../../notebooks/funciones.ipynb"
   ]
  },
  {
   "cell_type": "markdown",
   "id": "5851166b",
   "metadata": {},
   "source": [
    "# 2. 'film.csv'"
   ]
  },
  {
   "cell_type": "markdown",
   "id": "e2a852f9",
   "metadata": {},
   "source": [
    " ## 2.1. Importación del archivo y creación del dataframe"
   ]
  },
  {
   "cell_type": "code",
   "execution_count": 2,
   "id": "322131a3",
   "metadata": {},
   "outputs": [
    {
     "data": {
      "text/html": [
       "<div>\n",
       "<style scoped>\n",
       "    .dataframe tbody tr th:only-of-type {\n",
       "        vertical-align: middle;\n",
       "    }\n",
       "\n",
       "    .dataframe tbody tr th {\n",
       "        vertical-align: top;\n",
       "    }\n",
       "\n",
       "    .dataframe thead th {\n",
       "        text-align: right;\n",
       "    }\n",
       "</style>\n",
       "<table border=\"1\" class=\"dataframe\">\n",
       "  <thead>\n",
       "    <tr style=\"text-align: right;\">\n",
       "      <th></th>\n",
       "      <th>film_id</th>\n",
       "      <th>title</th>\n",
       "      <th>description</th>\n",
       "      <th>release_year</th>\n",
       "      <th>language_id</th>\n",
       "      <th>original_language_id</th>\n",
       "      <th>rental_duration</th>\n",
       "      <th>rental_rate</th>\n",
       "      <th>length</th>\n",
       "      <th>replacement_cost</th>\n",
       "      <th>rating</th>\n",
       "      <th>special_features</th>\n",
       "      <th>last_update</th>\n",
       "    </tr>\n",
       "  </thead>\n",
       "  <tbody>\n",
       "    <tr>\n",
       "      <th>0</th>\n",
       "      <td>1</td>\n",
       "      <td>ACADEMY DINOSAUR</td>\n",
       "      <td>A Epic Drama of a Feminist And a Mad Scientist...</td>\n",
       "      <td>2006</td>\n",
       "      <td>1</td>\n",
       "      <td>NaN</td>\n",
       "      <td>6</td>\n",
       "      <td>0.99</td>\n",
       "      <td>86</td>\n",
       "      <td>20.99</td>\n",
       "      <td>PG</td>\n",
       "      <td>Deleted Scenes,Behind the Scenes</td>\n",
       "      <td>2006-02-15 05:03:42</td>\n",
       "    </tr>\n",
       "    <tr>\n",
       "      <th>1</th>\n",
       "      <td>2</td>\n",
       "      <td>ACE GOLDFINGER</td>\n",
       "      <td>A Astounding Epistle of a Database Administrat...</td>\n",
       "      <td>2006</td>\n",
       "      <td>1</td>\n",
       "      <td>NaN</td>\n",
       "      <td>3</td>\n",
       "      <td>4.99</td>\n",
       "      <td>48</td>\n",
       "      <td>12.99</td>\n",
       "      <td>G</td>\n",
       "      <td>Trailers,Deleted Scenes</td>\n",
       "      <td>2006-02-15 05:03:42</td>\n",
       "    </tr>\n",
       "    <tr>\n",
       "      <th>2</th>\n",
       "      <td>3</td>\n",
       "      <td>ADAPTATION HOLES</td>\n",
       "      <td>A Astounding Reflection of a Lumberjack And a ...</td>\n",
       "      <td>2006</td>\n",
       "      <td>1</td>\n",
       "      <td>NaN</td>\n",
       "      <td>7</td>\n",
       "      <td>2.99</td>\n",
       "      <td>50</td>\n",
       "      <td>18.99</td>\n",
       "      <td>NC-17</td>\n",
       "      <td>Trailers,Deleted Scenes</td>\n",
       "      <td>2006-02-15 05:03:42</td>\n",
       "    </tr>\n",
       "    <tr>\n",
       "      <th>3</th>\n",
       "      <td>4</td>\n",
       "      <td>AFFAIR PREJUDICE</td>\n",
       "      <td>A Fanciful Documentary of a Frisbee And a Lumb...</td>\n",
       "      <td>2006</td>\n",
       "      <td>1</td>\n",
       "      <td>NaN</td>\n",
       "      <td>5</td>\n",
       "      <td>2.99</td>\n",
       "      <td>117</td>\n",
       "      <td>26.99</td>\n",
       "      <td>G</td>\n",
       "      <td>Commentaries,Behind the Scenes</td>\n",
       "      <td>2006-02-15 05:03:42</td>\n",
       "    </tr>\n",
       "    <tr>\n",
       "      <th>4</th>\n",
       "      <td>5</td>\n",
       "      <td>AFRICAN EGG</td>\n",
       "      <td>A Fast-Paced Documentary of a Pastry Chef And ...</td>\n",
       "      <td>2006</td>\n",
       "      <td>1</td>\n",
       "      <td>NaN</td>\n",
       "      <td>6</td>\n",
       "      <td>2.99</td>\n",
       "      <td>130</td>\n",
       "      <td>22.99</td>\n",
       "      <td>G</td>\n",
       "      <td>Deleted Scenes</td>\n",
       "      <td>2006-02-15 05:03:42</td>\n",
       "    </tr>\n",
       "    <tr>\n",
       "      <th>...</th>\n",
       "      <td>...</td>\n",
       "      <td>...</td>\n",
       "      <td>...</td>\n",
       "      <td>...</td>\n",
       "      <td>...</td>\n",
       "      <td>...</td>\n",
       "      <td>...</td>\n",
       "      <td>...</td>\n",
       "      <td>...</td>\n",
       "      <td>...</td>\n",
       "      <td>...</td>\n",
       "      <td>...</td>\n",
       "      <td>...</td>\n",
       "    </tr>\n",
       "    <tr>\n",
       "      <th>995</th>\n",
       "      <td>996</td>\n",
       "      <td>YOUNG LANGUAGE</td>\n",
       "      <td>A Unbelieveable Yarn of a Boat And a Database ...</td>\n",
       "      <td>2006</td>\n",
       "      <td>1</td>\n",
       "      <td>NaN</td>\n",
       "      <td>6</td>\n",
       "      <td>0.99</td>\n",
       "      <td>183</td>\n",
       "      <td>9.99</td>\n",
       "      <td>G</td>\n",
       "      <td>Trailers,Behind the Scenes</td>\n",
       "      <td>2006-02-15 05:03:42</td>\n",
       "    </tr>\n",
       "    <tr>\n",
       "      <th>996</th>\n",
       "      <td>997</td>\n",
       "      <td>YOUTH KICK</td>\n",
       "      <td>A Touching Drama of a Teacher And a Cat who mu...</td>\n",
       "      <td>2006</td>\n",
       "      <td>1</td>\n",
       "      <td>NaN</td>\n",
       "      <td>4</td>\n",
       "      <td>0.99</td>\n",
       "      <td>179</td>\n",
       "      <td>14.99</td>\n",
       "      <td>NC-17</td>\n",
       "      <td>Trailers,Behind the Scenes</td>\n",
       "      <td>2006-02-15 05:03:42</td>\n",
       "    </tr>\n",
       "    <tr>\n",
       "      <th>997</th>\n",
       "      <td>998</td>\n",
       "      <td>ZHIVAGO CORE</td>\n",
       "      <td>A Fateful Yarn of a Composer And a Man who mus...</td>\n",
       "      <td>2006</td>\n",
       "      <td>1</td>\n",
       "      <td>NaN</td>\n",
       "      <td>6</td>\n",
       "      <td>0.99</td>\n",
       "      <td>105</td>\n",
       "      <td>10.99</td>\n",
       "      <td>NC-17</td>\n",
       "      <td>Deleted Scenes</td>\n",
       "      <td>2006-02-15 05:03:42</td>\n",
       "    </tr>\n",
       "    <tr>\n",
       "      <th>998</th>\n",
       "      <td>999</td>\n",
       "      <td>ZOOLANDER FICTION</td>\n",
       "      <td>A Fateful Reflection of a Waitress And a Boat ...</td>\n",
       "      <td>2006</td>\n",
       "      <td>1</td>\n",
       "      <td>NaN</td>\n",
       "      <td>5</td>\n",
       "      <td>2.99</td>\n",
       "      <td>101</td>\n",
       "      <td>28.99</td>\n",
       "      <td>R</td>\n",
       "      <td>Trailers,Deleted Scenes</td>\n",
       "      <td>2006-02-15 05:03:42</td>\n",
       "    </tr>\n",
       "    <tr>\n",
       "      <th>999</th>\n",
       "      <td>1000</td>\n",
       "      <td>ZORRO ARK</td>\n",
       "      <td>A Intrepid Panorama of a Mad Scientist And a B...</td>\n",
       "      <td>2006</td>\n",
       "      <td>1</td>\n",
       "      <td>NaN</td>\n",
       "      <td>3</td>\n",
       "      <td>4.99</td>\n",
       "      <td>50</td>\n",
       "      <td>18.99</td>\n",
       "      <td>NC-17</td>\n",
       "      <td>Trailers,Commentaries,Behind the Scenes</td>\n",
       "      <td>2006-02-15 05:03:42</td>\n",
       "    </tr>\n",
       "  </tbody>\n",
       "</table>\n",
       "<p>1000 rows × 13 columns</p>\n",
       "</div>"
      ],
      "text/plain": [
       "     film_id              title  \\\n",
       "0          1   ACADEMY DINOSAUR   \n",
       "1          2     ACE GOLDFINGER   \n",
       "2          3   ADAPTATION HOLES   \n",
       "3          4   AFFAIR PREJUDICE   \n",
       "4          5        AFRICAN EGG   \n",
       "..       ...                ...   \n",
       "995      996     YOUNG LANGUAGE   \n",
       "996      997         YOUTH KICK   \n",
       "997      998       ZHIVAGO CORE   \n",
       "998      999  ZOOLANDER FICTION   \n",
       "999     1000          ZORRO ARK   \n",
       "\n",
       "                                           description  release_year  \\\n",
       "0    A Epic Drama of a Feminist And a Mad Scientist...          2006   \n",
       "1    A Astounding Epistle of a Database Administrat...          2006   \n",
       "2    A Astounding Reflection of a Lumberjack And a ...          2006   \n",
       "3    A Fanciful Documentary of a Frisbee And a Lumb...          2006   \n",
       "4    A Fast-Paced Documentary of a Pastry Chef And ...          2006   \n",
       "..                                                 ...           ...   \n",
       "995  A Unbelieveable Yarn of a Boat And a Database ...          2006   \n",
       "996  A Touching Drama of a Teacher And a Cat who mu...          2006   \n",
       "997  A Fateful Yarn of a Composer And a Man who mus...          2006   \n",
       "998  A Fateful Reflection of a Waitress And a Boat ...          2006   \n",
       "999  A Intrepid Panorama of a Mad Scientist And a B...          2006   \n",
       "\n",
       "     language_id  original_language_id  rental_duration  rental_rate  length  \\\n",
       "0              1                   NaN                6         0.99      86   \n",
       "1              1                   NaN                3         4.99      48   \n",
       "2              1                   NaN                7         2.99      50   \n",
       "3              1                   NaN                5         2.99     117   \n",
       "4              1                   NaN                6         2.99     130   \n",
       "..           ...                   ...              ...          ...     ...   \n",
       "995            1                   NaN                6         0.99     183   \n",
       "996            1                   NaN                4         0.99     179   \n",
       "997            1                   NaN                6         0.99     105   \n",
       "998            1                   NaN                5         2.99     101   \n",
       "999            1                   NaN                3         4.99      50   \n",
       "\n",
       "     replacement_cost rating                         special_features  \\\n",
       "0               20.99     PG         Deleted Scenes,Behind the Scenes   \n",
       "1               12.99      G                  Trailers,Deleted Scenes   \n",
       "2               18.99  NC-17                  Trailers,Deleted Scenes   \n",
       "3               26.99      G           Commentaries,Behind the Scenes   \n",
       "4               22.99      G                           Deleted Scenes   \n",
       "..                ...    ...                                      ...   \n",
       "995              9.99      G               Trailers,Behind the Scenes   \n",
       "996             14.99  NC-17               Trailers,Behind the Scenes   \n",
       "997             10.99  NC-17                           Deleted Scenes   \n",
       "998             28.99      R                  Trailers,Deleted Scenes   \n",
       "999             18.99  NC-17  Trailers,Commentaries,Behind the Scenes   \n",
       "\n",
       "             last_update  \n",
       "0    2006-02-15 05:03:42  \n",
       "1    2006-02-15 05:03:42  \n",
       "2    2006-02-15 05:03:42  \n",
       "3    2006-02-15 05:03:42  \n",
       "4    2006-02-15 05:03:42  \n",
       "..                   ...  \n",
       "995  2006-02-15 05:03:42  \n",
       "996  2006-02-15 05:03:42  \n",
       "997  2006-02-15 05:03:42  \n",
       "998  2006-02-15 05:03:42  \n",
       "999  2006-02-15 05:03:42  \n",
       "\n",
       "[1000 rows x 13 columns]"
      ]
     },
     "metadata": {},
     "output_type": "display_data"
    }
   ],
   "source": [
    "film = pd.read_csv('../../../3.5-mysql/data/film.csv', encoding = 'latin1')\n",
    "display(film)"
   ]
  },
  {
   "cell_type": "markdown",
   "id": "c6d870dd",
   "metadata": {},
   "source": [
    "## 2.2. Elementos totales del data frame (número de filas multiplicado por el número de columnas)"
   ]
  },
  {
   "cell_type": "code",
   "execution_count": 3,
   "id": "a7237559",
   "metadata": {},
   "outputs": [
    {
     "data": {
      "text/plain": [
       "13000"
      ]
     },
     "execution_count": 3,
     "metadata": {},
     "output_type": "execute_result"
    }
   ],
   "source": [
    "film.size"
   ]
  },
  {
   "cell_type": "markdown",
   "id": "54a387de",
   "metadata": {},
   "source": [
    "## 2.3. Número de filas y número de columnas"
   ]
  },
  {
   "cell_type": "code",
   "execution_count": 4,
   "id": "b00d25ca",
   "metadata": {},
   "outputs": [
    {
     "data": {
      "text/plain": [
       "(1000, 13)"
      ]
     },
     "execution_count": 4,
     "metadata": {},
     "output_type": "execute_result"
    }
   ],
   "source": [
    "film.shape"
   ]
  },
  {
   "cell_type": "markdown",
   "id": "3a2777d0",
   "metadata": {},
   "source": [
    "## 2.4. Información general del data frame"
   ]
  },
  {
   "cell_type": "code",
   "execution_count": 5,
   "id": "bfd0da1c",
   "metadata": {
    "scrolled": true
   },
   "outputs": [
    {
     "name": "stdout",
     "output_type": "stream",
     "text": [
      "<class 'pandas.core.frame.DataFrame'>\n",
      "RangeIndex: 1000 entries, 0 to 999\n",
      "Data columns (total 13 columns):\n",
      " #   Column                Non-Null Count  Dtype  \n",
      "---  ------                --------------  -----  \n",
      " 0   film_id               1000 non-null   int64  \n",
      " 1   title                 1000 non-null   object \n",
      " 2   description           1000 non-null   object \n",
      " 3   release_year          1000 non-null   int64  \n",
      " 4   language_id           1000 non-null   int64  \n",
      " 5   original_language_id  0 non-null      float64\n",
      " 6   rental_duration       1000 non-null   int64  \n",
      " 7   rental_rate           1000 non-null   float64\n",
      " 8   length                1000 non-null   int64  \n",
      " 9   replacement_cost      1000 non-null   float64\n",
      " 10  rating                1000 non-null   object \n",
      " 11  special_features      1000 non-null   object \n",
      " 12  last_update           1000 non-null   object \n",
      "dtypes: float64(3), int64(5), object(5)\n",
      "memory usage: 101.7+ KB\n"
     ]
    }
   ],
   "source": [
    "film.info()"
   ]
  },
  {
   "cell_type": "markdown",
   "id": "b62f98b8",
   "metadata": {},
   "source": [
    "## 2.5. Estadísticas"
   ]
  },
  {
   "cell_type": "code",
   "execution_count": 6,
   "id": "82cef812",
   "metadata": {},
   "outputs": [
    {
     "data": {
      "text/html": [
       "<div>\n",
       "<style scoped>\n",
       "    .dataframe tbody tr th:only-of-type {\n",
       "        vertical-align: middle;\n",
       "    }\n",
       "\n",
       "    .dataframe tbody tr th {\n",
       "        vertical-align: top;\n",
       "    }\n",
       "\n",
       "    .dataframe thead th {\n",
       "        text-align: right;\n",
       "    }\n",
       "</style>\n",
       "<table border=\"1\" class=\"dataframe\">\n",
       "  <thead>\n",
       "    <tr style=\"text-align: right;\">\n",
       "      <th></th>\n",
       "      <th>count</th>\n",
       "      <th>mean</th>\n",
       "      <th>std</th>\n",
       "      <th>min</th>\n",
       "      <th>25%</th>\n",
       "      <th>50%</th>\n",
       "      <th>75%</th>\n",
       "      <th>max</th>\n",
       "    </tr>\n",
       "  </thead>\n",
       "  <tbody>\n",
       "    <tr>\n",
       "      <th>film_id</th>\n",
       "      <td>1000.0</td>\n",
       "      <td>500.500</td>\n",
       "      <td>288.819436</td>\n",
       "      <td>1.00</td>\n",
       "      <td>250.75</td>\n",
       "      <td>500.50</td>\n",
       "      <td>750.25</td>\n",
       "      <td>1000.00</td>\n",
       "    </tr>\n",
       "    <tr>\n",
       "      <th>release_year</th>\n",
       "      <td>1000.0</td>\n",
       "      <td>2006.000</td>\n",
       "      <td>0.000000</td>\n",
       "      <td>2006.00</td>\n",
       "      <td>2006.00</td>\n",
       "      <td>2006.00</td>\n",
       "      <td>2006.00</td>\n",
       "      <td>2006.00</td>\n",
       "    </tr>\n",
       "    <tr>\n",
       "      <th>language_id</th>\n",
       "      <td>1000.0</td>\n",
       "      <td>1.000</td>\n",
       "      <td>0.000000</td>\n",
       "      <td>1.00</td>\n",
       "      <td>1.00</td>\n",
       "      <td>1.00</td>\n",
       "      <td>1.00</td>\n",
       "      <td>1.00</td>\n",
       "    </tr>\n",
       "    <tr>\n",
       "      <th>original_language_id</th>\n",
       "      <td>0.0</td>\n",
       "      <td>NaN</td>\n",
       "      <td>NaN</td>\n",
       "      <td>NaN</td>\n",
       "      <td>NaN</td>\n",
       "      <td>NaN</td>\n",
       "      <td>NaN</td>\n",
       "      <td>NaN</td>\n",
       "    </tr>\n",
       "    <tr>\n",
       "      <th>rental_duration</th>\n",
       "      <td>1000.0</td>\n",
       "      <td>4.985</td>\n",
       "      <td>1.411654</td>\n",
       "      <td>3.00</td>\n",
       "      <td>4.00</td>\n",
       "      <td>5.00</td>\n",
       "      <td>6.00</td>\n",
       "      <td>7.00</td>\n",
       "    </tr>\n",
       "    <tr>\n",
       "      <th>rental_rate</th>\n",
       "      <td>1000.0</td>\n",
       "      <td>2.980</td>\n",
       "      <td>1.646393</td>\n",
       "      <td>0.99</td>\n",
       "      <td>0.99</td>\n",
       "      <td>2.99</td>\n",
       "      <td>4.99</td>\n",
       "      <td>4.99</td>\n",
       "    </tr>\n",
       "    <tr>\n",
       "      <th>length</th>\n",
       "      <td>1000.0</td>\n",
       "      <td>115.272</td>\n",
       "      <td>40.426332</td>\n",
       "      <td>46.00</td>\n",
       "      <td>80.00</td>\n",
       "      <td>114.00</td>\n",
       "      <td>149.25</td>\n",
       "      <td>185.00</td>\n",
       "    </tr>\n",
       "    <tr>\n",
       "      <th>replacement_cost</th>\n",
       "      <td>1000.0</td>\n",
       "      <td>19.984</td>\n",
       "      <td>6.050833</td>\n",
       "      <td>9.99</td>\n",
       "      <td>14.99</td>\n",
       "      <td>19.99</td>\n",
       "      <td>24.99</td>\n",
       "      <td>29.99</td>\n",
       "    </tr>\n",
       "  </tbody>\n",
       "</table>\n",
       "</div>"
      ],
      "text/plain": [
       "                       count      mean         std      min      25%      50%  \\\n",
       "film_id               1000.0   500.500  288.819436     1.00   250.75   500.50   \n",
       "release_year          1000.0  2006.000    0.000000  2006.00  2006.00  2006.00   \n",
       "language_id           1000.0     1.000    0.000000     1.00     1.00     1.00   \n",
       "original_language_id     0.0       NaN         NaN      NaN      NaN      NaN   \n",
       "rental_duration       1000.0     4.985    1.411654     3.00     4.00     5.00   \n",
       "rental_rate           1000.0     2.980    1.646393     0.99     0.99     2.99   \n",
       "length                1000.0   115.272   40.426332    46.00    80.00   114.00   \n",
       "replacement_cost      1000.0    19.984    6.050833     9.99    14.99    19.99   \n",
       "\n",
       "                          75%      max  \n",
       "film_id                750.25  1000.00  \n",
       "release_year          2006.00  2006.00  \n",
       "language_id              1.00     1.00  \n",
       "original_language_id      NaN      NaN  \n",
       "rental_duration          6.00     7.00  \n",
       "rental_rate              4.99     4.99  \n",
       "length                 149.25   185.00  \n",
       "replacement_cost        24.99    29.99  "
      ]
     },
     "execution_count": 6,
     "metadata": {},
     "output_type": "execute_result"
    }
   ],
   "source": [
    "film.describe().T"
   ]
  },
  {
   "cell_type": "markdown",
   "id": "b12b8d6e",
   "metadata": {},
   "source": [
    "## 2.6. Limpieza columna 'film_id'"
   ]
  },
  {
   "cell_type": "code",
   "execution_count": 7,
   "id": "6345a3ae",
   "metadata": {
    "scrolled": true
   },
   "outputs": [
    {
     "data": {
      "text/plain": [
       "array([ 1,  2,  3,  4,  5,  6,  7,  8,  9, 10])"
      ]
     },
     "execution_count": 7,
     "metadata": {},
     "output_type": "execute_result"
    }
   ],
   "source": [
    "film['film_id'].unique()[:10]"
   ]
  },
  {
   "cell_type": "markdown",
   "id": "06c80aa3",
   "metadata": {},
   "source": [
    "## 2.7. Limpieza columna 'title'"
   ]
  },
  {
   "cell_type": "code",
   "execution_count": 8,
   "id": "ee043670",
   "metadata": {},
   "outputs": [
    {
     "data": {
      "text/plain": [
       "array(['ACADEMY DINOSAUR', 'ACE GOLDFINGER', 'ADAPTATION HOLES',\n",
       "       'AFFAIR PREJUDICE', 'AFRICAN EGG', 'AGENT TRUMAN',\n",
       "       'AIRPLANE SIERRA', 'AIRPORT POLLOCK', 'ALABAMA DEVIL',\n",
       "       'ALADDIN CALENDAR'], dtype=object)"
      ]
     },
     "execution_count": 8,
     "metadata": {},
     "output_type": "execute_result"
    }
   ],
   "source": [
    "film['title'].unique()[:10]"
   ]
  },
  {
   "cell_type": "code",
   "execution_count": 9,
   "id": "ac193d28",
   "metadata": {},
   "outputs": [
    {
     "data": {
      "text/plain": [
       "0       Academy Dinosaur\n",
       "1         Ace Goldfinger\n",
       "2       Adaptation Holes\n",
       "3       Affair Prejudice\n",
       "4            African Egg\n",
       "             ...        \n",
       "995       Young Language\n",
       "996           Youth Kick\n",
       "997         Zhivago Core\n",
       "998    Zoolander Fiction\n",
       "999            Zorro Ark\n",
       "Name: title, Length: 1000, dtype: object"
      ]
     },
     "execution_count": 9,
     "metadata": {},
     "output_type": "execute_result"
    }
   ],
   "source": [
    "# Sólo primera letra mayúscula\n",
    "\n",
    "film['title'] = film['title'].apply(correct_mayusc)\n",
    "film['title']"
   ]
  },
  {
   "cell_type": "markdown",
   "id": "2a8e80dc",
   "metadata": {},
   "source": [
    "## 2.8. Limpieza columna 'description'"
   ]
  },
  {
   "cell_type": "code",
   "execution_count": 10,
   "id": "97252b8f",
   "metadata": {
    "scrolled": true
   },
   "outputs": [
    {
     "data": {
      "text/plain": [
       "array(['A Epic Drama of a Feminist And a Mad Scientist who must Battle a Teacher in The Canadian Rockies',\n",
       "       'A Astounding Epistle of a Database Administrator And a Explorer who must Find a Car in Ancient China',\n",
       "       'A Astounding Reflection of a Lumberjack And a Car who must Sink a Lumberjack in A Baloon Factory',\n",
       "       'A Fanciful Documentary of a Frisbee And a Lumberjack who must Chase a Monkey in A Shark Tank',\n",
       "       'A Fast-Paced Documentary of a Pastry Chef And a Dentist who must Pursue a Forensic Psychologist in The Gulf of Mexico',\n",
       "       'A Intrepid Panorama of a Robot And a Boy who must Escape a Sumo Wrestler in Ancient China',\n",
       "       'A Touching Saga of a Hunter And a Butler who must Discover a Butler in A Jet Boat',\n",
       "       'A Epic Tale of a Moose And a Girl who must Confront a Monkey in Ancient India',\n",
       "       'A Thoughtful Panorama of a Database Administrator And a Mad Scientist who must Outgun a Mad Scientist in A Jet Boat',\n",
       "       'A Action-Packed Tale of a Man And a Lumberjack who must Reach a Feminist in Ancient China'],\n",
       "      dtype=object)"
      ]
     },
     "execution_count": 10,
     "metadata": {},
     "output_type": "execute_result"
    }
   ],
   "source": [
    "film['description'].unique()[:10]"
   ]
  },
  {
   "cell_type": "code",
   "execution_count": 11,
   "id": "f4136898",
   "metadata": {},
   "outputs": [
    {
     "data": {
      "text/plain": [
       "0      A epic drama of a feminist and a mad scientist...\n",
       "1      A astounding epistle of a database administrat...\n",
       "2      A astounding reflection of a lumberjack and a ...\n",
       "3      A fanciful documentary of a frisbee and a lumb...\n",
       "4      A fast-paced documentary of a pastry chef and ...\n",
       "                             ...                        \n",
       "995    A unbelieveable yarn of a boat and a database ...\n",
       "996    A touching drama of a teacher and a cat who mu...\n",
       "997    A fateful yarn of a composer and a man who mus...\n",
       "998    A fateful reflection of a waitress and a boat ...\n",
       "999    A intrepid panorama of a mad scientist and a b...\n",
       "Name: description, Length: 1000, dtype: object"
      ]
     },
     "execution_count": 11,
     "metadata": {},
     "output_type": "execute_result"
    }
   ],
   "source": [
    "# Sólo la primera letra de la primera palabra el mayúscula \n",
    "\n",
    "film['description'] = film['description'].str.capitalize()\n",
    "film['description']"
   ]
  },
  {
   "cell_type": "markdown",
   "id": "a6e9467e",
   "metadata": {},
   "source": [
    "## 2.9. Limpieza columna 'release_year'"
   ]
  },
  {
   "cell_type": "code",
   "execution_count": 12,
   "id": "31c07433",
   "metadata": {},
   "outputs": [
    {
     "data": {
      "text/plain": [
       "array([2006])"
      ]
     },
     "execution_count": 12,
     "metadata": {},
     "output_type": "execute_result"
    }
   ],
   "source": [
    "film['release_year'].unique()"
   ]
  },
  {
   "cell_type": "markdown",
   "id": "e7f8ed9a",
   "metadata": {},
   "source": [
    "## 2.10. Limpieza columna 'language_id'"
   ]
  },
  {
   "cell_type": "code",
   "execution_count": 13,
   "id": "dae1ab3c",
   "metadata": {},
   "outputs": [
    {
     "data": {
      "text/plain": [
       "array([1])"
      ]
     },
     "execution_count": 13,
     "metadata": {},
     "output_type": "execute_result"
    }
   ],
   "source": [
    "film['language_id'].unique()"
   ]
  },
  {
   "cell_type": "markdown",
   "id": "2f7b0a4b",
   "metadata": {},
   "source": [
    "## 2.11. Limpieza columna 'original_language_id'"
   ]
  },
  {
   "cell_type": "code",
   "execution_count": 14,
   "id": "03d40982",
   "metadata": {},
   "outputs": [
    {
     "data": {
      "text/plain": [
       "array([nan])"
      ]
     },
     "execution_count": 14,
     "metadata": {},
     "output_type": "execute_result"
    }
   ],
   "source": [
    "film['original_language_id'].unique()"
   ]
  },
  {
   "cell_type": "code",
   "execution_count": 15,
   "id": "0dac1702",
   "metadata": {},
   "outputs": [],
   "source": [
    "# Eliminación de la columna \n",
    "\n",
    "del film['original_language_id']"
   ]
  },
  {
   "cell_type": "markdown",
   "id": "5f7f27ee",
   "metadata": {},
   "source": [
    "## 2.12. Limpieza columna 'rental_duration'"
   ]
  },
  {
   "cell_type": "code",
   "execution_count": 16,
   "id": "93067f94",
   "metadata": {},
   "outputs": [
    {
     "data": {
      "text/plain": [
       "array([6, 3, 7, 5, 4])"
      ]
     },
     "execution_count": 16,
     "metadata": {},
     "output_type": "execute_result"
    }
   ],
   "source": [
    "film['rental_duration'].unique()"
   ]
  },
  {
   "cell_type": "markdown",
   "id": "bcea9d2d",
   "metadata": {},
   "source": [
    "## 2.13. Limpieza columna 'rental_rate'"
   ]
  },
  {
   "cell_type": "code",
   "execution_count": 17,
   "id": "5fafbe40",
   "metadata": {},
   "outputs": [
    {
     "data": {
      "text/plain": [
       "array([0.99, 4.99, 2.99])"
      ]
     },
     "execution_count": 17,
     "metadata": {},
     "output_type": "execute_result"
    }
   ],
   "source": [
    "film['rental_rate'].unique()"
   ]
  },
  {
   "cell_type": "markdown",
   "id": "f0be7fb0",
   "metadata": {},
   "source": [
    "## 2.14. Limpieza columna 'length'"
   ]
  },
  {
   "cell_type": "code",
   "execution_count": 18,
   "id": "7a0d363b",
   "metadata": {},
   "outputs": [
    {
     "data": {
      "text/plain": [
       "array([ 86,  48,  50, 117, 130, 169,  62,  54, 114,  63, 126, 136, 150,\n",
       "        94,  46, 180,  82,  57, 113,  79, 129,  85,  92, 181,  74, 179,\n",
       "        91, 168, 119, 153, 147, 127, 121,  68,  99, 148, 137, 170,  83,\n",
       "       108, 118, 162, 182,  75, 173,  87,  65,  90, 122, 160,  89, 175,\n",
       "       106,  73, 151, 100,  53,  77, 142,  93, 163, 103,  61,  71, 102,\n",
       "        76,  98,  72, 176, 123,  56, 161,  60, 133, 125,  67,  52, 120,\n",
       "       167,  70, 135, 112, 183, 110, 152,  51, 146,  66, 185, 124, 107,\n",
       "       101, 132, 143, 165,  81, 164,  58,  95, 139,  55, 149, 109,  59,\n",
       "       172, 115, 184, 166,  64, 104,  69,  84, 144,  88, 141,  47,  49,\n",
       "       177, 154, 159, 178,  96, 116, 171, 140, 155, 158, 174, 138,  97,\n",
       "       131, 156,  80, 145, 111, 128, 157,  78, 105, 134])"
      ]
     },
     "execution_count": 18,
     "metadata": {},
     "output_type": "execute_result"
    }
   ],
   "source": [
    "film['length'].unique()"
   ]
  },
  {
   "cell_type": "markdown",
   "id": "02181f3b",
   "metadata": {},
   "source": [
    "## 2.15. Limpieza columna 'replacement_cost'"
   ]
  },
  {
   "cell_type": "code",
   "execution_count": 19,
   "id": "4bfeaa42",
   "metadata": {},
   "outputs": [
    {
     "data": {
      "text/plain": [
       "array([20.99, 12.99, 18.99, 26.99, 22.99, 17.99, 28.99, 15.99, 21.99,\n",
       "       24.99, 16.99, 23.99, 10.99, 14.99, 27.99,  9.99, 19.99, 11.99,\n",
       "       29.99, 25.99, 13.99])"
      ]
     },
     "execution_count": 19,
     "metadata": {},
     "output_type": "execute_result"
    }
   ],
   "source": [
    "film['replacement_cost'].unique()"
   ]
  },
  {
   "cell_type": "markdown",
   "id": "782a74d0",
   "metadata": {},
   "source": [
    "## 2.16 Limpieza columna 'rating'"
   ]
  },
  {
   "cell_type": "code",
   "execution_count": 20,
   "id": "cc58a876",
   "metadata": {
    "scrolled": true
   },
   "outputs": [
    {
     "data": {
      "text/plain": [
       "array(['PG', 'G', 'NC-17', 'PG-13', 'R'], dtype=object)"
      ]
     },
     "execution_count": 20,
     "metadata": {},
     "output_type": "execute_result"
    }
   ],
   "source": [
    "film['rating'].unique()"
   ]
  },
  {
   "cell_type": "markdown",
   "id": "6245f4f3",
   "metadata": {},
   "source": [
    "## 2.17. Limpieza 'special_features'"
   ]
  },
  {
   "cell_type": "code",
   "execution_count": 21,
   "id": "977d28c5",
   "metadata": {
    "scrolled": true
   },
   "outputs": [
    {
     "data": {
      "text/plain": [
       "array(['Deleted Scenes,Behind the Scenes', 'Trailers,Deleted Scenes',\n",
       "       'Commentaries,Behind the Scenes', 'Deleted Scenes', 'Trailers',\n",
       "       'Commentaries,Deleted Scenes',\n",
       "       'Trailers,Deleted Scenes,Behind the Scenes',\n",
       "       'Trailers,Commentaries,Behind the Scenes', 'Trailers,Commentaries',\n",
       "       'Trailers,Behind the Scenes',\n",
       "       'Commentaries,Deleted Scenes,Behind the Scenes',\n",
       "       'Trailers,Commentaries,Deleted Scenes',\n",
       "       'Trailers,Commentaries,Deleted Scenes,Behind the Scenes',\n",
       "       'Behind the Scenes', 'Commentaries'], dtype=object)"
      ]
     },
     "execution_count": 21,
     "metadata": {},
     "output_type": "execute_result"
    }
   ],
   "source": [
    "film['special_features'].unique()"
   ]
  },
  {
   "cell_type": "code",
   "execution_count": 22,
   "id": "519e4eba",
   "metadata": {},
   "outputs": [
    {
     "data": {
      "text/html": [
       "<div>\n",
       "<style scoped>\n",
       "    .dataframe tbody tr th:only-of-type {\n",
       "        vertical-align: middle;\n",
       "    }\n",
       "\n",
       "    .dataframe tbody tr th {\n",
       "        vertical-align: top;\n",
       "    }\n",
       "\n",
       "    .dataframe thead th {\n",
       "        text-align: right;\n",
       "    }\n",
       "</style>\n",
       "<table border=\"1\" class=\"dataframe\">\n",
       "  <thead>\n",
       "    <tr style=\"text-align: right;\">\n",
       "      <th></th>\n",
       "      <th>film_id</th>\n",
       "      <th>title</th>\n",
       "      <th>description</th>\n",
       "      <th>release_year</th>\n",
       "      <th>language_id</th>\n",
       "      <th>rental_duration</th>\n",
       "      <th>rental_rate</th>\n",
       "      <th>length</th>\n",
       "      <th>replacement_cost</th>\n",
       "      <th>rating</th>\n",
       "      <th>special_features</th>\n",
       "      <th>last_update</th>\n",
       "    </tr>\n",
       "  </thead>\n",
       "  <tbody>\n",
       "    <tr>\n",
       "      <th>0</th>\n",
       "      <td>1</td>\n",
       "      <td>Academy Dinosaur</td>\n",
       "      <td>A epic drama of a feminist and a mad scientist...</td>\n",
       "      <td>2006</td>\n",
       "      <td>1</td>\n",
       "      <td>6</td>\n",
       "      <td>0.99</td>\n",
       "      <td>86</td>\n",
       "      <td>20.99</td>\n",
       "      <td>PG</td>\n",
       "      <td>[Deleted Scenes, Behind the Scenes]</td>\n",
       "      <td>2006-02-15 05:03:42</td>\n",
       "    </tr>\n",
       "    <tr>\n",
       "      <th>1</th>\n",
       "      <td>2</td>\n",
       "      <td>Ace Goldfinger</td>\n",
       "      <td>A astounding epistle of a database administrat...</td>\n",
       "      <td>2006</td>\n",
       "      <td>1</td>\n",
       "      <td>3</td>\n",
       "      <td>4.99</td>\n",
       "      <td>48</td>\n",
       "      <td>12.99</td>\n",
       "      <td>G</td>\n",
       "      <td>[Trailers, Deleted Scenes]</td>\n",
       "      <td>2006-02-15 05:03:42</td>\n",
       "    </tr>\n",
       "    <tr>\n",
       "      <th>2</th>\n",
       "      <td>3</td>\n",
       "      <td>Adaptation Holes</td>\n",
       "      <td>A astounding reflection of a lumberjack and a ...</td>\n",
       "      <td>2006</td>\n",
       "      <td>1</td>\n",
       "      <td>7</td>\n",
       "      <td>2.99</td>\n",
       "      <td>50</td>\n",
       "      <td>18.99</td>\n",
       "      <td>NC-17</td>\n",
       "      <td>[Trailers, Deleted Scenes]</td>\n",
       "      <td>2006-02-15 05:03:42</td>\n",
       "    </tr>\n",
       "    <tr>\n",
       "      <th>3</th>\n",
       "      <td>4</td>\n",
       "      <td>Affair Prejudice</td>\n",
       "      <td>A fanciful documentary of a frisbee and a lumb...</td>\n",
       "      <td>2006</td>\n",
       "      <td>1</td>\n",
       "      <td>5</td>\n",
       "      <td>2.99</td>\n",
       "      <td>117</td>\n",
       "      <td>26.99</td>\n",
       "      <td>G</td>\n",
       "      <td>[Commentaries, Behind the Scenes]</td>\n",
       "      <td>2006-02-15 05:03:42</td>\n",
       "    </tr>\n",
       "    <tr>\n",
       "      <th>4</th>\n",
       "      <td>5</td>\n",
       "      <td>African Egg</td>\n",
       "      <td>A fast-paced documentary of a pastry chef and ...</td>\n",
       "      <td>2006</td>\n",
       "      <td>1</td>\n",
       "      <td>6</td>\n",
       "      <td>2.99</td>\n",
       "      <td>130</td>\n",
       "      <td>22.99</td>\n",
       "      <td>G</td>\n",
       "      <td>[Deleted Scenes]</td>\n",
       "      <td>2006-02-15 05:03:42</td>\n",
       "    </tr>\n",
       "    <tr>\n",
       "      <th>...</th>\n",
       "      <td>...</td>\n",
       "      <td>...</td>\n",
       "      <td>...</td>\n",
       "      <td>...</td>\n",
       "      <td>...</td>\n",
       "      <td>...</td>\n",
       "      <td>...</td>\n",
       "      <td>...</td>\n",
       "      <td>...</td>\n",
       "      <td>...</td>\n",
       "      <td>...</td>\n",
       "      <td>...</td>\n",
       "    </tr>\n",
       "    <tr>\n",
       "      <th>995</th>\n",
       "      <td>996</td>\n",
       "      <td>Young Language</td>\n",
       "      <td>A unbelieveable yarn of a boat and a database ...</td>\n",
       "      <td>2006</td>\n",
       "      <td>1</td>\n",
       "      <td>6</td>\n",
       "      <td>0.99</td>\n",
       "      <td>183</td>\n",
       "      <td>9.99</td>\n",
       "      <td>G</td>\n",
       "      <td>[Trailers, Behind the Scenes]</td>\n",
       "      <td>2006-02-15 05:03:42</td>\n",
       "    </tr>\n",
       "    <tr>\n",
       "      <th>996</th>\n",
       "      <td>997</td>\n",
       "      <td>Youth Kick</td>\n",
       "      <td>A touching drama of a teacher and a cat who mu...</td>\n",
       "      <td>2006</td>\n",
       "      <td>1</td>\n",
       "      <td>4</td>\n",
       "      <td>0.99</td>\n",
       "      <td>179</td>\n",
       "      <td>14.99</td>\n",
       "      <td>NC-17</td>\n",
       "      <td>[Trailers, Behind the Scenes]</td>\n",
       "      <td>2006-02-15 05:03:42</td>\n",
       "    </tr>\n",
       "    <tr>\n",
       "      <th>997</th>\n",
       "      <td>998</td>\n",
       "      <td>Zhivago Core</td>\n",
       "      <td>A fateful yarn of a composer and a man who mus...</td>\n",
       "      <td>2006</td>\n",
       "      <td>1</td>\n",
       "      <td>6</td>\n",
       "      <td>0.99</td>\n",
       "      <td>105</td>\n",
       "      <td>10.99</td>\n",
       "      <td>NC-17</td>\n",
       "      <td>[Deleted Scenes]</td>\n",
       "      <td>2006-02-15 05:03:42</td>\n",
       "    </tr>\n",
       "    <tr>\n",
       "      <th>998</th>\n",
       "      <td>999</td>\n",
       "      <td>Zoolander Fiction</td>\n",
       "      <td>A fateful reflection of a waitress and a boat ...</td>\n",
       "      <td>2006</td>\n",
       "      <td>1</td>\n",
       "      <td>5</td>\n",
       "      <td>2.99</td>\n",
       "      <td>101</td>\n",
       "      <td>28.99</td>\n",
       "      <td>R</td>\n",
       "      <td>[Trailers, Deleted Scenes]</td>\n",
       "      <td>2006-02-15 05:03:42</td>\n",
       "    </tr>\n",
       "    <tr>\n",
       "      <th>999</th>\n",
       "      <td>1000</td>\n",
       "      <td>Zorro Ark</td>\n",
       "      <td>A intrepid panorama of a mad scientist and a b...</td>\n",
       "      <td>2006</td>\n",
       "      <td>1</td>\n",
       "      <td>3</td>\n",
       "      <td>4.99</td>\n",
       "      <td>50</td>\n",
       "      <td>18.99</td>\n",
       "      <td>NC-17</td>\n",
       "      <td>[Trailers, Commentaries, Behind the Scenes]</td>\n",
       "      <td>2006-02-15 05:03:42</td>\n",
       "    </tr>\n",
       "  </tbody>\n",
       "</table>\n",
       "<p>1000 rows × 12 columns</p>\n",
       "</div>"
      ],
      "text/plain": [
       "     film_id              title  \\\n",
       "0          1   Academy Dinosaur   \n",
       "1          2     Ace Goldfinger   \n",
       "2          3   Adaptation Holes   \n",
       "3          4   Affair Prejudice   \n",
       "4          5        African Egg   \n",
       "..       ...                ...   \n",
       "995      996     Young Language   \n",
       "996      997         Youth Kick   \n",
       "997      998       Zhivago Core   \n",
       "998      999  Zoolander Fiction   \n",
       "999     1000          Zorro Ark   \n",
       "\n",
       "                                           description  release_year  \\\n",
       "0    A epic drama of a feminist and a mad scientist...          2006   \n",
       "1    A astounding epistle of a database administrat...          2006   \n",
       "2    A astounding reflection of a lumberjack and a ...          2006   \n",
       "3    A fanciful documentary of a frisbee and a lumb...          2006   \n",
       "4    A fast-paced documentary of a pastry chef and ...          2006   \n",
       "..                                                 ...           ...   \n",
       "995  A unbelieveable yarn of a boat and a database ...          2006   \n",
       "996  A touching drama of a teacher and a cat who mu...          2006   \n",
       "997  A fateful yarn of a composer and a man who mus...          2006   \n",
       "998  A fateful reflection of a waitress and a boat ...          2006   \n",
       "999  A intrepid panorama of a mad scientist and a b...          2006   \n",
       "\n",
       "     language_id  rental_duration  rental_rate  length  replacement_cost  \\\n",
       "0              1                6         0.99      86             20.99   \n",
       "1              1                3         4.99      48             12.99   \n",
       "2              1                7         2.99      50             18.99   \n",
       "3              1                5         2.99     117             26.99   \n",
       "4              1                6         2.99     130             22.99   \n",
       "..           ...              ...          ...     ...               ...   \n",
       "995            1                6         0.99     183              9.99   \n",
       "996            1                4         0.99     179             14.99   \n",
       "997            1                6         0.99     105             10.99   \n",
       "998            1                5         2.99     101             28.99   \n",
       "999            1                3         4.99      50             18.99   \n",
       "\n",
       "    rating                             special_features          last_update  \n",
       "0       PG          [Deleted Scenes, Behind the Scenes]  2006-02-15 05:03:42  \n",
       "1        G                   [Trailers, Deleted Scenes]  2006-02-15 05:03:42  \n",
       "2    NC-17                   [Trailers, Deleted Scenes]  2006-02-15 05:03:42  \n",
       "3        G            [Commentaries, Behind the Scenes]  2006-02-15 05:03:42  \n",
       "4        G                             [Deleted Scenes]  2006-02-15 05:03:42  \n",
       "..     ...                                          ...                  ...  \n",
       "995      G                [Trailers, Behind the Scenes]  2006-02-15 05:03:42  \n",
       "996  NC-17                [Trailers, Behind the Scenes]  2006-02-15 05:03:42  \n",
       "997  NC-17                             [Deleted Scenes]  2006-02-15 05:03:42  \n",
       "998      R                   [Trailers, Deleted Scenes]  2006-02-15 05:03:42  \n",
       "999  NC-17  [Trailers, Commentaries, Behind the Scenes]  2006-02-15 05:03:42  \n",
       "\n",
       "[1000 rows x 12 columns]"
      ]
     },
     "execution_count": 22,
     "metadata": {},
     "output_type": "execute_result"
    }
   ],
   "source": [
    "# Conversión a varias cadenas de string\n",
    "\n",
    "film['special_features'] = film['special_features'].str.split(',')\n",
    "film['special_features']"
   ]
  },
  {
   "cell_type": "code",
   "execution_count": 23,
   "id": "fab58669",
   "metadata": {
    "scrolled": true
   },
   "outputs": [
    {
     "data": {
      "text/html": [
       "<div>\n",
       "<style scoped>\n",
       "    .dataframe tbody tr th:only-of-type {\n",
       "        vertical-align: middle;\n",
       "    }\n",
       "\n",
       "    .dataframe tbody tr th {\n",
       "        vertical-align: top;\n",
       "    }\n",
       "\n",
       "    .dataframe thead th {\n",
       "        text-align: right;\n",
       "    }\n",
       "</style>\n",
       "<table border=\"1\" class=\"dataframe\">\n",
       "  <thead>\n",
       "    <tr style=\"text-align: right;\">\n",
       "      <th></th>\n",
       "      <th>film_id</th>\n",
       "      <th>title</th>\n",
       "      <th>description</th>\n",
       "      <th>release_year</th>\n",
       "      <th>language_id</th>\n",
       "      <th>rental_duration</th>\n",
       "      <th>rental_rate</th>\n",
       "      <th>length</th>\n",
       "      <th>replacement_cost</th>\n",
       "      <th>rating</th>\n",
       "      <th>special_features</th>\n",
       "      <th>last_update</th>\n",
       "      <th>deleted_scenes</th>\n",
       "      <th>behind_the_scenes</th>\n",
       "      <th>trailers</th>\n",
       "      <th>commentaries</th>\n",
       "    </tr>\n",
       "  </thead>\n",
       "  <tbody>\n",
       "    <tr>\n",
       "      <th>0</th>\n",
       "      <td>1</td>\n",
       "      <td>Academy Dinosaur</td>\n",
       "      <td>A epic drama of a feminist and a mad scientist...</td>\n",
       "      <td>2006</td>\n",
       "      <td>1</td>\n",
       "      <td>6</td>\n",
       "      <td>0.99</td>\n",
       "      <td>86</td>\n",
       "      <td>20.99</td>\n",
       "      <td>PG</td>\n",
       "      <td>[Deleted Scenes, Behind the Scenes]</td>\n",
       "      <td>2006-02-15 05:03:42</td>\n",
       "      <td>No</td>\n",
       "      <td>No</td>\n",
       "      <td>No</td>\n",
       "      <td>No</td>\n",
       "    </tr>\n",
       "    <tr>\n",
       "      <th>1</th>\n",
       "      <td>2</td>\n",
       "      <td>Ace Goldfinger</td>\n",
       "      <td>A astounding epistle of a database administrat...</td>\n",
       "      <td>2006</td>\n",
       "      <td>1</td>\n",
       "      <td>3</td>\n",
       "      <td>4.99</td>\n",
       "      <td>48</td>\n",
       "      <td>12.99</td>\n",
       "      <td>G</td>\n",
       "      <td>[Trailers, Deleted Scenes]</td>\n",
       "      <td>2006-02-15 05:03:42</td>\n",
       "      <td>No</td>\n",
       "      <td>No</td>\n",
       "      <td>No</td>\n",
       "      <td>No</td>\n",
       "    </tr>\n",
       "    <tr>\n",
       "      <th>2</th>\n",
       "      <td>3</td>\n",
       "      <td>Adaptation Holes</td>\n",
       "      <td>A astounding reflection of a lumberjack and a ...</td>\n",
       "      <td>2006</td>\n",
       "      <td>1</td>\n",
       "      <td>7</td>\n",
       "      <td>2.99</td>\n",
       "      <td>50</td>\n",
       "      <td>18.99</td>\n",
       "      <td>NC-17</td>\n",
       "      <td>[Trailers, Deleted Scenes]</td>\n",
       "      <td>2006-02-15 05:03:42</td>\n",
       "      <td>No</td>\n",
       "      <td>No</td>\n",
       "      <td>No</td>\n",
       "      <td>No</td>\n",
       "    </tr>\n",
       "    <tr>\n",
       "      <th>3</th>\n",
       "      <td>4</td>\n",
       "      <td>Affair Prejudice</td>\n",
       "      <td>A fanciful documentary of a frisbee and a lumb...</td>\n",
       "      <td>2006</td>\n",
       "      <td>1</td>\n",
       "      <td>5</td>\n",
       "      <td>2.99</td>\n",
       "      <td>117</td>\n",
       "      <td>26.99</td>\n",
       "      <td>G</td>\n",
       "      <td>[Commentaries, Behind the Scenes]</td>\n",
       "      <td>2006-02-15 05:03:42</td>\n",
       "      <td>No</td>\n",
       "      <td>No</td>\n",
       "      <td>No</td>\n",
       "      <td>No</td>\n",
       "    </tr>\n",
       "    <tr>\n",
       "      <th>4</th>\n",
       "      <td>5</td>\n",
       "      <td>African Egg</td>\n",
       "      <td>A fast-paced documentary of a pastry chef and ...</td>\n",
       "      <td>2006</td>\n",
       "      <td>1</td>\n",
       "      <td>6</td>\n",
       "      <td>2.99</td>\n",
       "      <td>130</td>\n",
       "      <td>22.99</td>\n",
       "      <td>G</td>\n",
       "      <td>[Deleted Scenes]</td>\n",
       "      <td>2006-02-15 05:03:42</td>\n",
       "      <td>No</td>\n",
       "      <td>No</td>\n",
       "      <td>No</td>\n",
       "      <td>No</td>\n",
       "    </tr>\n",
       "    <tr>\n",
       "      <th>...</th>\n",
       "      <td>...</td>\n",
       "      <td>...</td>\n",
       "      <td>...</td>\n",
       "      <td>...</td>\n",
       "      <td>...</td>\n",
       "      <td>...</td>\n",
       "      <td>...</td>\n",
       "      <td>...</td>\n",
       "      <td>...</td>\n",
       "      <td>...</td>\n",
       "      <td>...</td>\n",
       "      <td>...</td>\n",
       "      <td>...</td>\n",
       "      <td>...</td>\n",
       "      <td>...</td>\n",
       "      <td>...</td>\n",
       "    </tr>\n",
       "    <tr>\n",
       "      <th>995</th>\n",
       "      <td>996</td>\n",
       "      <td>Young Language</td>\n",
       "      <td>A unbelieveable yarn of a boat and a database ...</td>\n",
       "      <td>2006</td>\n",
       "      <td>1</td>\n",
       "      <td>6</td>\n",
       "      <td>0.99</td>\n",
       "      <td>183</td>\n",
       "      <td>9.99</td>\n",
       "      <td>G</td>\n",
       "      <td>[Trailers, Behind the Scenes]</td>\n",
       "      <td>2006-02-15 05:03:42</td>\n",
       "      <td>No</td>\n",
       "      <td>No</td>\n",
       "      <td>No</td>\n",
       "      <td>No</td>\n",
       "    </tr>\n",
       "    <tr>\n",
       "      <th>996</th>\n",
       "      <td>997</td>\n",
       "      <td>Youth Kick</td>\n",
       "      <td>A touching drama of a teacher and a cat who mu...</td>\n",
       "      <td>2006</td>\n",
       "      <td>1</td>\n",
       "      <td>4</td>\n",
       "      <td>0.99</td>\n",
       "      <td>179</td>\n",
       "      <td>14.99</td>\n",
       "      <td>NC-17</td>\n",
       "      <td>[Trailers, Behind the Scenes]</td>\n",
       "      <td>2006-02-15 05:03:42</td>\n",
       "      <td>No</td>\n",
       "      <td>No</td>\n",
       "      <td>No</td>\n",
       "      <td>No</td>\n",
       "    </tr>\n",
       "    <tr>\n",
       "      <th>997</th>\n",
       "      <td>998</td>\n",
       "      <td>Zhivago Core</td>\n",
       "      <td>A fateful yarn of a composer and a man who mus...</td>\n",
       "      <td>2006</td>\n",
       "      <td>1</td>\n",
       "      <td>6</td>\n",
       "      <td>0.99</td>\n",
       "      <td>105</td>\n",
       "      <td>10.99</td>\n",
       "      <td>NC-17</td>\n",
       "      <td>[Deleted Scenes]</td>\n",
       "      <td>2006-02-15 05:03:42</td>\n",
       "      <td>No</td>\n",
       "      <td>No</td>\n",
       "      <td>No</td>\n",
       "      <td>No</td>\n",
       "    </tr>\n",
       "    <tr>\n",
       "      <th>998</th>\n",
       "      <td>999</td>\n",
       "      <td>Zoolander Fiction</td>\n",
       "      <td>A fateful reflection of a waitress and a boat ...</td>\n",
       "      <td>2006</td>\n",
       "      <td>1</td>\n",
       "      <td>5</td>\n",
       "      <td>2.99</td>\n",
       "      <td>101</td>\n",
       "      <td>28.99</td>\n",
       "      <td>R</td>\n",
       "      <td>[Trailers, Deleted Scenes]</td>\n",
       "      <td>2006-02-15 05:03:42</td>\n",
       "      <td>No</td>\n",
       "      <td>No</td>\n",
       "      <td>No</td>\n",
       "      <td>No</td>\n",
       "    </tr>\n",
       "    <tr>\n",
       "      <th>999</th>\n",
       "      <td>1000</td>\n",
       "      <td>Zorro Ark</td>\n",
       "      <td>A intrepid panorama of a mad scientist and a b...</td>\n",
       "      <td>2006</td>\n",
       "      <td>1</td>\n",
       "      <td>3</td>\n",
       "      <td>4.99</td>\n",
       "      <td>50</td>\n",
       "      <td>18.99</td>\n",
       "      <td>NC-17</td>\n",
       "      <td>[Trailers, Commentaries, Behind the Scenes]</td>\n",
       "      <td>2006-02-15 05:03:42</td>\n",
       "      <td>No</td>\n",
       "      <td>No</td>\n",
       "      <td>No</td>\n",
       "      <td>No</td>\n",
       "    </tr>\n",
       "  </tbody>\n",
       "</table>\n",
       "<p>1000 rows × 16 columns</p>\n",
       "</div>"
      ],
      "text/plain": [
       "     film_id              title  \\\n",
       "0          1   Academy Dinosaur   \n",
       "1          2     Ace Goldfinger   \n",
       "2          3   Adaptation Holes   \n",
       "3          4   Affair Prejudice   \n",
       "4          5        African Egg   \n",
       "..       ...                ...   \n",
       "995      996     Young Language   \n",
       "996      997         Youth Kick   \n",
       "997      998       Zhivago Core   \n",
       "998      999  Zoolander Fiction   \n",
       "999     1000          Zorro Ark   \n",
       "\n",
       "                                           description  release_year  \\\n",
       "0    A epic drama of a feminist and a mad scientist...          2006   \n",
       "1    A astounding epistle of a database administrat...          2006   \n",
       "2    A astounding reflection of a lumberjack and a ...          2006   \n",
       "3    A fanciful documentary of a frisbee and a lumb...          2006   \n",
       "4    A fast-paced documentary of a pastry chef and ...          2006   \n",
       "..                                                 ...           ...   \n",
       "995  A unbelieveable yarn of a boat and a database ...          2006   \n",
       "996  A touching drama of a teacher and a cat who mu...          2006   \n",
       "997  A fateful yarn of a composer and a man who mus...          2006   \n",
       "998  A fateful reflection of a waitress and a boat ...          2006   \n",
       "999  A intrepid panorama of a mad scientist and a b...          2006   \n",
       "\n",
       "     language_id  rental_duration  rental_rate  length  replacement_cost  \\\n",
       "0              1                6         0.99      86             20.99   \n",
       "1              1                3         4.99      48             12.99   \n",
       "2              1                7         2.99      50             18.99   \n",
       "3              1                5         2.99     117             26.99   \n",
       "4              1                6         2.99     130             22.99   \n",
       "..           ...              ...          ...     ...               ...   \n",
       "995            1                6         0.99     183              9.99   \n",
       "996            1                4         0.99     179             14.99   \n",
       "997            1                6         0.99     105             10.99   \n",
       "998            1                5         2.99     101             28.99   \n",
       "999            1                3         4.99      50             18.99   \n",
       "\n",
       "    rating                             special_features          last_update  \\\n",
       "0       PG          [Deleted Scenes, Behind the Scenes]  2006-02-15 05:03:42   \n",
       "1        G                   [Trailers, Deleted Scenes]  2006-02-15 05:03:42   \n",
       "2    NC-17                   [Trailers, Deleted Scenes]  2006-02-15 05:03:42   \n",
       "3        G            [Commentaries, Behind the Scenes]  2006-02-15 05:03:42   \n",
       "4        G                             [Deleted Scenes]  2006-02-15 05:03:42   \n",
       "..     ...                                          ...                  ...   \n",
       "995      G                [Trailers, Behind the Scenes]  2006-02-15 05:03:42   \n",
       "996  NC-17                [Trailers, Behind the Scenes]  2006-02-15 05:03:42   \n",
       "997  NC-17                             [Deleted Scenes]  2006-02-15 05:03:42   \n",
       "998      R                   [Trailers, Deleted Scenes]  2006-02-15 05:03:42   \n",
       "999  NC-17  [Trailers, Commentaries, Behind the Scenes]  2006-02-15 05:03:42   \n",
       "\n",
       "    deleted_scenes behind_the_scenes trailers commentaries  \n",
       "0               No                No       No           No  \n",
       "1               No                No       No           No  \n",
       "2               No                No       No           No  \n",
       "3               No                No       No           No  \n",
       "4               No                No       No           No  \n",
       "..             ...               ...      ...          ...  \n",
       "995             No                No       No           No  \n",
       "996             No                No       No           No  \n",
       "997             No                No       No           No  \n",
       "998             No                No       No           No  \n",
       "999             No                No       No           No  \n",
       "\n",
       "[1000 rows x 16 columns]"
      ]
     },
     "execution_count": 23,
     "metadata": {},
     "output_type": "execute_result"
    }
   ],
   "source": [
    "# Separación de valores por columnas \n",
    "\n",
    "film['deleted_scenes'] = 0\n",
    "film['behind_the_scenes'] = 0\n",
    "film['trailers'] = 0\n",
    "film['commentaries'] = 0\n",
    "\n",
    "\n",
    "check_words = ['Deleted Scenes', 'Behind the Scenes', 'Trailers', 'Commentaries']\n",
    "\n",
    "\n",
    "for e in film['deleted_scenes']:\n",
    "    if e in check_words:\n",
    "        film['deleted_scenes'] = 'Yes'\n",
    "    else:\n",
    "        film['deleted_scenes'] = 'No'\n",
    "    \n",
    "    \n",
    "for e in film['behind_the_scenes']:\n",
    "    if e in check_words:\n",
    "        film['behind_the_scenes'] = 'Yes'\n",
    "    else:\n",
    "        film['behind_the_scenes'] = 'No'\n",
    "\n",
    "        \n",
    "for e in film['trailers']:\n",
    "    if e in check_words:\n",
    "        film['trailers'] = 'Yes'\n",
    "    else:\n",
    "        film['trailers'] = 'No'\n",
    "\n",
    "for e in film['commentaries']:\n",
    "    if e in check_words:\n",
    "        film['commentaries'] = 'Yes'\n",
    "    else:\n",
    "        film['commentaries'] = 'No'\n",
    "        \n",
    "film\n"
   ]
  },
  {
   "cell_type": "markdown",
   "id": "78af1394",
   "metadata": {},
   "source": [
    "## 2.18. Limpieza columna 'last_update'"
   ]
  },
  {
   "cell_type": "code",
   "execution_count": 25,
   "id": "495bc9dc",
   "metadata": {},
   "outputs": [
    {
     "data": {
      "text/plain": [
       "array(['2006-02-15 05:03:42'], dtype=object)"
      ]
     },
     "execution_count": 25,
     "metadata": {},
     "output_type": "execute_result"
    }
   ],
   "source": [
    "film['last_update'].unique()"
   ]
  },
  {
   "cell_type": "code",
   "execution_count": 27,
   "id": "ffef727f",
   "metadata": {},
   "outputs": [
    {
     "data": {
      "text/plain": [
       "film_id                       int64\n",
       "title                        object\n",
       "description                  object\n",
       "release_year                  int64\n",
       "language_id                   int64\n",
       "rental_duration               int64\n",
       "rental_rate                 float64\n",
       "length                        int64\n",
       "replacement_cost            float64\n",
       "rating                       object\n",
       "special_features             object\n",
       "last_update          datetime64[ns]\n",
       "deleted_scenes               object\n",
       "behind_the_scenes            object\n",
       "trailers                     object\n",
       "commentaries                 object\n",
       "dtype: object"
      ]
     },
     "execution_count": 27,
     "metadata": {},
     "output_type": "execute_result"
    }
   ],
   "source": [
    "# Cambio del tipo de dato de object a date time\n",
    "\n",
    "film['last_update'] = pd.to_datetime(film['last_update'])\n",
    "\n",
    "film.dtypes"
   ]
  },
  {
   "cell_type": "markdown",
   "id": "45bc97bb",
   "metadata": {},
   "source": [
    "## 2.19. Exportación de los datos "
   ]
  },
  {
   "cell_type": "code",
   "execution_count": 24,
   "id": "7d77e050",
   "metadata": {},
   "outputs": [],
   "source": [
    "film.to_csv('film_limpio.csv', index = False)"
   ]
  },
  {
   "cell_type": "code",
   "execution_count": null,
   "id": "6ee8740e",
   "metadata": {},
   "outputs": [],
   "source": []
  }
 ],
 "metadata": {
  "kernelspec": {
   "display_name": "Python 3 (ipykernel)",
   "language": "python",
   "name": "python3"
  },
  "language_info": {
   "codemirror_mode": {
    "name": "ipython",
    "version": 3
   },
   "file_extension": ".py",
   "mimetype": "text/x-python",
   "name": "python",
   "nbconvert_exporter": "python",
   "pygments_lexer": "ipython3",
   "version": "3.11.4"
  }
 },
 "nbformat": 4,
 "nbformat_minor": 5
}
