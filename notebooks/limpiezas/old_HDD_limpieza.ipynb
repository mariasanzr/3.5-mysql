{
 "cells": [
  {
   "cell_type": "markdown",
   "id": "a8489fe7",
   "metadata": {},
   "source": [
    "# 1. Importación de librerías"
   ]
  },
  {
   "cell_type": "code",
   "execution_count": 1,
   "id": "38f7bdea",
   "metadata": {},
   "outputs": [],
   "source": [
    "import pandas as pd\n",
    "%run ../../notebooks/funciones.ipynb"
   ]
  },
  {
   "cell_type": "markdown",
   "id": "5851166b",
   "metadata": {},
   "source": [
    "# 2. 'old_HDD.csv'"
   ]
  },
  {
   "cell_type": "markdown",
   "id": "e2a852f9",
   "metadata": {},
   "source": [
    " ## 2.1. Importación del archivo y creación del dataframe"
   ]
  },
  {
   "cell_type": "code",
   "execution_count": 2,
   "id": "322131a3",
   "metadata": {},
   "outputs": [
    {
     "data": {
      "text/html": [
       "<div>\n",
       "<style scoped>\n",
       "    .dataframe tbody tr th:only-of-type {\n",
       "        vertical-align: middle;\n",
       "    }\n",
       "\n",
       "    .dataframe tbody tr th {\n",
       "        vertical-align: top;\n",
       "    }\n",
       "\n",
       "    .dataframe thead th {\n",
       "        text-align: right;\n",
       "    }\n",
       "</style>\n",
       "<table border=\"1\" class=\"dataframe\">\n",
       "  <thead>\n",
       "    <tr style=\"text-align: right;\">\n",
       "      <th></th>\n",
       "      <th>first_name</th>\n",
       "      <th>last_name</th>\n",
       "      <th>title</th>\n",
       "      <th>release_year</th>\n",
       "      <th>category_id</th>\n",
       "    </tr>\n",
       "  </thead>\n",
       "  <tbody>\n",
       "    <tr>\n",
       "      <th>0</th>\n",
       "      <td>PENELOPE</td>\n",
       "      <td>GUINESS</td>\n",
       "      <td>ACADEMY DINOSAUR</td>\n",
       "      <td>2006</td>\n",
       "      <td>6</td>\n",
       "    </tr>\n",
       "    <tr>\n",
       "      <th>1</th>\n",
       "      <td>PENELOPE</td>\n",
       "      <td>GUINESS</td>\n",
       "      <td>ANACONDA CONFESSIONS</td>\n",
       "      <td>2006</td>\n",
       "      <td>2</td>\n",
       "    </tr>\n",
       "    <tr>\n",
       "      <th>2</th>\n",
       "      <td>PENELOPE</td>\n",
       "      <td>GUINESS</td>\n",
       "      <td>ANGELS LIFE</td>\n",
       "      <td>2006</td>\n",
       "      <td>13</td>\n",
       "    </tr>\n",
       "    <tr>\n",
       "      <th>3</th>\n",
       "      <td>PENELOPE</td>\n",
       "      <td>GUINESS</td>\n",
       "      <td>BULWORTH COMMANDMENTS</td>\n",
       "      <td>2006</td>\n",
       "      <td>10</td>\n",
       "    </tr>\n",
       "    <tr>\n",
       "      <th>4</th>\n",
       "      <td>PENELOPE</td>\n",
       "      <td>GUINESS</td>\n",
       "      <td>CHEAPER CLYDE</td>\n",
       "      <td>2006</td>\n",
       "      <td>14</td>\n",
       "    </tr>\n",
       "    <tr>\n",
       "      <th>...</th>\n",
       "      <td>...</td>\n",
       "      <td>...</td>\n",
       "      <td>...</td>\n",
       "      <td>...</td>\n",
       "      <td>...</td>\n",
       "    </tr>\n",
       "    <tr>\n",
       "      <th>995</th>\n",
       "      <td>GOLDIE</td>\n",
       "      <td>BRODY</td>\n",
       "      <td>COMANCHEROS ENEMY</td>\n",
       "      <td>2006</td>\n",
       "      <td>3</td>\n",
       "    </tr>\n",
       "    <tr>\n",
       "      <th>996</th>\n",
       "      <td>GOLDIE</td>\n",
       "      <td>BRODY</td>\n",
       "      <td>DAISY MENAGERIE</td>\n",
       "      <td>2006</td>\n",
       "      <td>14</td>\n",
       "    </tr>\n",
       "    <tr>\n",
       "      <th>997</th>\n",
       "      <td>GOLDIE</td>\n",
       "      <td>BRODY</td>\n",
       "      <td>DESERT POSEIDON</td>\n",
       "      <td>2006</td>\n",
       "      <td>11</td>\n",
       "    </tr>\n",
       "    <tr>\n",
       "      <th>998</th>\n",
       "      <td>GOLDIE</td>\n",
       "      <td>BRODY</td>\n",
       "      <td>EVERYONE CRAFT</td>\n",
       "      <td>2006</td>\n",
       "      <td>9</td>\n",
       "    </tr>\n",
       "    <tr>\n",
       "      <th>999</th>\n",
       "      <td>GOLDIE</td>\n",
       "      <td>BRODY</td>\n",
       "      <td>EXORCIST STING</td>\n",
       "      <td>2006</td>\n",
       "      <td>15</td>\n",
       "    </tr>\n",
       "  </tbody>\n",
       "</table>\n",
       "<p>1000 rows × 5 columns</p>\n",
       "</div>"
      ],
      "text/plain": [
       "    first_name last_name                  title  release_year  category_id\n",
       "0     PENELOPE   GUINESS       ACADEMY DINOSAUR          2006            6\n",
       "1     PENELOPE   GUINESS   ANACONDA CONFESSIONS          2006            2\n",
       "2     PENELOPE   GUINESS            ANGELS LIFE          2006           13\n",
       "3     PENELOPE   GUINESS  BULWORTH COMMANDMENTS          2006           10\n",
       "4     PENELOPE   GUINESS          CHEAPER CLYDE          2006           14\n",
       "..         ...       ...                    ...           ...          ...\n",
       "995     GOLDIE     BRODY      COMANCHEROS ENEMY          2006            3\n",
       "996     GOLDIE     BRODY        DAISY MENAGERIE          2006           14\n",
       "997     GOLDIE     BRODY        DESERT POSEIDON          2006           11\n",
       "998     GOLDIE     BRODY         EVERYONE CRAFT          2006            9\n",
       "999     GOLDIE     BRODY         EXORCIST STING          2006           15\n",
       "\n",
       "[1000 rows x 5 columns]"
      ]
     },
     "metadata": {},
     "output_type": "display_data"
    }
   ],
   "source": [
    "old = pd.read_csv('../../../3.5-mysql/data/old_HDD.csv', encoding = 'latin1')\n",
    "display(old)"
   ]
  },
  {
   "cell_type": "markdown",
   "id": "c6d870dd",
   "metadata": {},
   "source": [
    "## 2.2. Elementos totales del data frame (número de filas multiplicado por el número de columnas)"
   ]
  },
  {
   "cell_type": "code",
   "execution_count": 3,
   "id": "a7237559",
   "metadata": {},
   "outputs": [
    {
     "data": {
      "text/plain": [
       "5000"
      ]
     },
     "execution_count": 3,
     "metadata": {},
     "output_type": "execute_result"
    }
   ],
   "source": [
    "old.size"
   ]
  },
  {
   "cell_type": "markdown",
   "id": "54a387de",
   "metadata": {},
   "source": [
    "## 2.3. Número de filas y número de columnas"
   ]
  },
  {
   "cell_type": "code",
   "execution_count": 4,
   "id": "b00d25ca",
   "metadata": {},
   "outputs": [
    {
     "data": {
      "text/plain": [
       "(1000, 5)"
      ]
     },
     "execution_count": 4,
     "metadata": {},
     "output_type": "execute_result"
    }
   ],
   "source": [
    "old.shape"
   ]
  },
  {
   "cell_type": "markdown",
   "id": "3a2777d0",
   "metadata": {},
   "source": [
    "## 2.4. Información general del data frame"
   ]
  },
  {
   "cell_type": "code",
   "execution_count": 5,
   "id": "bfd0da1c",
   "metadata": {
    "scrolled": true
   },
   "outputs": [
    {
     "name": "stdout",
     "output_type": "stream",
     "text": [
      "<class 'pandas.core.frame.DataFrame'>\n",
      "RangeIndex: 1000 entries, 0 to 999\n",
      "Data columns (total 5 columns):\n",
      " #   Column        Non-Null Count  Dtype \n",
      "---  ------        --------------  ----- \n",
      " 0   first_name    1000 non-null   object\n",
      " 1   last_name     1000 non-null   object\n",
      " 2   title         1000 non-null   object\n",
      " 3   release_year  1000 non-null   int64 \n",
      " 4   category_id   1000 non-null   int64 \n",
      "dtypes: int64(2), object(3)\n",
      "memory usage: 39.2+ KB\n"
     ]
    }
   ],
   "source": [
    "old.info()"
   ]
  },
  {
   "cell_type": "markdown",
   "id": "b62f98b8",
   "metadata": {},
   "source": [
    "## 2.5. Estadísticas"
   ]
  },
  {
   "cell_type": "code",
   "execution_count": 6,
   "id": "82cef812",
   "metadata": {},
   "outputs": [
    {
     "data": {
      "text/html": [
       "<div>\n",
       "<style scoped>\n",
       "    .dataframe tbody tr th:only-of-type {\n",
       "        vertical-align: middle;\n",
       "    }\n",
       "\n",
       "    .dataframe tbody tr th {\n",
       "        vertical-align: top;\n",
       "    }\n",
       "\n",
       "    .dataframe thead th {\n",
       "        text-align: right;\n",
       "    }\n",
       "</style>\n",
       "<table border=\"1\" class=\"dataframe\">\n",
       "  <thead>\n",
       "    <tr style=\"text-align: right;\">\n",
       "      <th></th>\n",
       "      <th>count</th>\n",
       "      <th>mean</th>\n",
       "      <th>std</th>\n",
       "      <th>min</th>\n",
       "      <th>25%</th>\n",
       "      <th>50%</th>\n",
       "      <th>75%</th>\n",
       "      <th>max</th>\n",
       "    </tr>\n",
       "  </thead>\n",
       "  <tbody>\n",
       "    <tr>\n",
       "      <th>release_year</th>\n",
       "      <td>1000.0</td>\n",
       "      <td>2006.000</td>\n",
       "      <td>0.000000</td>\n",
       "      <td>2006.0</td>\n",
       "      <td>2006.0</td>\n",
       "      <td>2006.0</td>\n",
       "      <td>2006.0</td>\n",
       "      <td>2006.0</td>\n",
       "    </tr>\n",
       "    <tr>\n",
       "      <th>category_id</th>\n",
       "      <td>1000.0</td>\n",
       "      <td>8.355</td>\n",
       "      <td>4.726872</td>\n",
       "      <td>1.0</td>\n",
       "      <td>4.0</td>\n",
       "      <td>8.0</td>\n",
       "      <td>13.0</td>\n",
       "      <td>16.0</td>\n",
       "    </tr>\n",
       "  </tbody>\n",
       "</table>\n",
       "</div>"
      ],
      "text/plain": [
       "               count      mean       std     min     25%     50%     75%  \\\n",
       "release_year  1000.0  2006.000  0.000000  2006.0  2006.0  2006.0  2006.0   \n",
       "category_id   1000.0     8.355  4.726872     1.0     4.0     8.0    13.0   \n",
       "\n",
       "                 max  \n",
       "release_year  2006.0  \n",
       "category_id     16.0  "
      ]
     },
     "execution_count": 6,
     "metadata": {},
     "output_type": "execute_result"
    }
   ],
   "source": [
    "old.describe().T"
   ]
  },
  {
   "cell_type": "markdown",
   "id": "b12b8d6e",
   "metadata": {},
   "source": [
    "## 2.6. Limpieza columna 'first_name'"
   ]
  },
  {
   "cell_type": "code",
   "execution_count": 7,
   "id": "6345a3ae",
   "metadata": {
    "scrolled": true
   },
   "outputs": [
    {
     "data": {
      "text/plain": [
       "array(['PENELOPE', 'NICK', 'ED', 'JENNIFER', 'JOHNNY', 'BETTE', 'GRACE',\n",
       "       'MATTHEW', 'JOE', 'CHRISTIAN'], dtype=object)"
      ]
     },
     "execution_count": 7,
     "metadata": {},
     "output_type": "execute_result"
    }
   ],
   "source": [
    "old['first_name'].unique()[:10]"
   ]
  },
  {
   "cell_type": "code",
   "execution_count": 8,
   "id": "a805f686",
   "metadata": {},
   "outputs": [
    {
     "data": {
      "text/plain": [
       "0      Penelope\n",
       "1      Penelope\n",
       "2      Penelope\n",
       "3      Penelope\n",
       "4      Penelope\n",
       "         ...   \n",
       "995      Goldie\n",
       "996      Goldie\n",
       "997      Goldie\n",
       "998      Goldie\n",
       "999      Goldie\n",
       "Name: first_name, Length: 1000, dtype: object"
      ]
     },
     "execution_count": 8,
     "metadata": {},
     "output_type": "execute_result"
    }
   ],
   "source": [
    "# Sólo primera letra mayúscula\n",
    "\n",
    "old['first_name'] = old['first_name'].apply(correct_mayusc)\n",
    "old['first_name']"
   ]
  },
  {
   "cell_type": "markdown",
   "id": "154cb852",
   "metadata": {},
   "source": [
    "## 2.7. Limpieza columna 'last_name'"
   ]
  },
  {
   "cell_type": "code",
   "execution_count": 9,
   "id": "eeb0f333",
   "metadata": {
    "scrolled": true
   },
   "outputs": [
    {
     "data": {
      "text/plain": [
       "array(['GUINESS', 'WAHLBERG', 'CHASE', 'DAVIS', 'LOLLOBRIGIDA',\n",
       "       'NICHOLSON', 'MOSTEL', 'JOHANSSON', 'SWANK', 'GABLE'], dtype=object)"
      ]
     },
     "execution_count": 9,
     "metadata": {},
     "output_type": "execute_result"
    }
   ],
   "source": [
    "old['last_name'].unique()[:10]"
   ]
  },
  {
   "cell_type": "code",
   "execution_count": 10,
   "id": "72aee8b3",
   "metadata": {
    "scrolled": true
   },
   "outputs": [
    {
     "data": {
      "text/plain": [
       "0      Guiness\n",
       "1      Guiness\n",
       "2      Guiness\n",
       "3      Guiness\n",
       "4      Guiness\n",
       "        ...   \n",
       "995      Brody\n",
       "996      Brody\n",
       "997      Brody\n",
       "998      Brody\n",
       "999      Brody\n",
       "Name: last_name, Length: 1000, dtype: object"
      ]
     },
     "execution_count": 10,
     "metadata": {},
     "output_type": "execute_result"
    }
   ],
   "source": [
    "# Sólo primera letra mayúscula\n",
    "\n",
    "old['last_name'] = old['last_name'].apply(correct_mayusc)\n",
    "old['last_name']"
   ]
  },
  {
   "cell_type": "markdown",
   "id": "04534762",
   "metadata": {},
   "source": [
    "## 2.8. Limpieza columna 'title'"
   ]
  },
  {
   "cell_type": "code",
   "execution_count": 11,
   "id": "28681a41",
   "metadata": {},
   "outputs": [
    {
     "data": {
      "text/plain": [
       "array(['ACADEMY DINOSAUR', 'ANACONDA CONFESSIONS', 'ANGELS LIFE',\n",
       "       'BULWORTH COMMANDMENTS', 'CHEAPER CLYDE', 'COLOR PHILADELPHIA',\n",
       "       'ELEPHANT TROJAN', 'GLEAMING JAWBREAKER', 'HUMAN GRAFFITI',\n",
       "       'KING EVOLUTION'], dtype=object)"
      ]
     },
     "execution_count": 11,
     "metadata": {},
     "output_type": "execute_result"
    }
   ],
   "source": [
    "old['title'].unique()[:10]"
   ]
  },
  {
   "cell_type": "code",
   "execution_count": 12,
   "id": "4d11556b",
   "metadata": {
    "scrolled": true
   },
   "outputs": [
    {
     "data": {
      "text/plain": [
       "0           Academy dinosaur\n",
       "1       Anaconda confessions\n",
       "2                Angels life\n",
       "3      Bulworth commandments\n",
       "4              Cheaper clyde\n",
       "               ...          \n",
       "995        Comancheros enemy\n",
       "996          Daisy menagerie\n",
       "997          Desert poseidon\n",
       "998           Everyone craft\n",
       "999           Exorcist sting\n",
       "Name: title, Length: 1000, dtype: object"
      ]
     },
     "execution_count": 12,
     "metadata": {},
     "output_type": "execute_result"
    }
   ],
   "source": [
    "# Sólo la primera letra de la primera palabra el mayúscula \n",
    "\n",
    "old['title'] = old['title'].str.capitalize()\n",
    "old['title']"
   ]
  },
  {
   "cell_type": "markdown",
   "id": "a4f8b0cc",
   "metadata": {},
   "source": [
    "## 2.9 Limpieza columna 'release_year'"
   ]
  },
  {
   "cell_type": "code",
   "execution_count": 13,
   "id": "e100a671",
   "metadata": {},
   "outputs": [
    {
     "data": {
      "text/plain": [
       "array([2006])"
      ]
     },
     "execution_count": 13,
     "metadata": {},
     "output_type": "execute_result"
    }
   ],
   "source": [
    "old['release_year'].unique()"
   ]
  },
  {
   "cell_type": "markdown",
   "id": "cdacb9ef",
   "metadata": {},
   "source": [
    "## 2.10. Limpieza columna 'category_id'"
   ]
  },
  {
   "cell_type": "code",
   "execution_count": 14,
   "id": "07673135",
   "metadata": {},
   "outputs": [
    {
     "data": {
      "text/plain": [
       "array([ 6,  2, 13, 10, 14,  4, 11, 15,  8,  3,  9,  5, 12,  1, 16,  7])"
      ]
     },
     "execution_count": 14,
     "metadata": {},
     "output_type": "execute_result"
    }
   ],
   "source": [
    "old['category_id'].unique()"
   ]
  },
  {
   "cell_type": "markdown",
   "id": "88a47376",
   "metadata": {},
   "source": [
    "## 2.9. Exportación de los datos "
   ]
  },
  {
   "cell_type": "code",
   "execution_count": 15,
   "id": "41474d8c",
   "metadata": {},
   "outputs": [],
   "source": [
    "old.to_csv('old_limpio.csv', index = False)"
   ]
  }
 ],
 "metadata": {
  "kernelspec": {
   "display_name": "Python 3 (ipykernel)",
   "language": "python",
   "name": "python3"
  },
  "language_info": {
   "codemirror_mode": {
    "name": "ipython",
    "version": 3
   },
   "file_extension": ".py",
   "mimetype": "text/x-python",
   "name": "python",
   "nbconvert_exporter": "python",
   "pygments_lexer": "ipython3",
   "version": "3.11.4"
  }
 },
 "nbformat": 4,
 "nbformat_minor": 5
}
