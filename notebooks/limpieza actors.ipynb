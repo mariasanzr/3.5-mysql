{
 "cells": [
  {
   "cell_type": "markdown",
   "id": "28bb5413",
   "metadata": {},
   "source": [
    "## 1. Importación de librerías"
   ]
  },
  {
   "cell_type": "code",
   "execution_count": 18,
   "id": "132b02b6",
   "metadata": {},
   "outputs": [],
   "source": [
    "import pandas as pd"
   ]
  },
  {
   "cell_type": "markdown",
   "id": "5b282df4",
   "metadata": {},
   "source": [
    "## 2. Importación del archivo y creación del dataframe"
   ]
  },
  {
   "cell_type": "code",
   "execution_count": 17,
   "id": "d17c51d5",
   "metadata": {},
   "outputs": [
    {
     "data": {
      "text/html": [
       "<div>\n",
       "<style scoped>\n",
       "    .dataframe tbody tr th:only-of-type {\n",
       "        vertical-align: middle;\n",
       "    }\n",
       "\n",
       "    .dataframe tbody tr th {\n",
       "        vertical-align: top;\n",
       "    }\n",
       "\n",
       "    .dataframe thead th {\n",
       "        text-align: right;\n",
       "    }\n",
       "</style>\n",
       "<table border=\"1\" class=\"dataframe\">\n",
       "  <thead>\n",
       "    <tr style=\"text-align: right;\">\n",
       "      <th></th>\n",
       "      <th>actor_id</th>\n",
       "      <th>first_name</th>\n",
       "      <th>last_name</th>\n",
       "      <th>last_update</th>\n",
       "    </tr>\n",
       "  </thead>\n",
       "  <tbody>\n",
       "    <tr>\n",
       "      <th>0</th>\n",
       "      <td>1</td>\n",
       "      <td>PENELOPE</td>\n",
       "      <td>GUINESS</td>\n",
       "      <td>2006-02-15 04:34:33</td>\n",
       "    </tr>\n",
       "    <tr>\n",
       "      <th>1</th>\n",
       "      <td>2</td>\n",
       "      <td>NICK</td>\n",
       "      <td>WAHLBERG</td>\n",
       "      <td>2006-02-15 04:34:33</td>\n",
       "    </tr>\n",
       "    <tr>\n",
       "      <th>2</th>\n",
       "      <td>3</td>\n",
       "      <td>ED</td>\n",
       "      <td>CHASE</td>\n",
       "      <td>2006-02-15 04:34:33</td>\n",
       "    </tr>\n",
       "    <tr>\n",
       "      <th>3</th>\n",
       "      <td>4</td>\n",
       "      <td>JENNIFER</td>\n",
       "      <td>DAVIS</td>\n",
       "      <td>2006-02-15 04:34:33</td>\n",
       "    </tr>\n",
       "    <tr>\n",
       "      <th>4</th>\n",
       "      <td>5</td>\n",
       "      <td>JOHNNY</td>\n",
       "      <td>LOLLOBRIGIDA</td>\n",
       "      <td>2006-02-15 04:34:33</td>\n",
       "    </tr>\n",
       "    <tr>\n",
       "      <th>...</th>\n",
       "      <td>...</td>\n",
       "      <td>...</td>\n",
       "      <td>...</td>\n",
       "      <td>...</td>\n",
       "    </tr>\n",
       "    <tr>\n",
       "      <th>195</th>\n",
       "      <td>196</td>\n",
       "      <td>BELA</td>\n",
       "      <td>WALKEN</td>\n",
       "      <td>2006-02-15 04:34:33</td>\n",
       "    </tr>\n",
       "    <tr>\n",
       "      <th>196</th>\n",
       "      <td>197</td>\n",
       "      <td>REESE</td>\n",
       "      <td>WEST</td>\n",
       "      <td>2006-02-15 04:34:33</td>\n",
       "    </tr>\n",
       "    <tr>\n",
       "      <th>197</th>\n",
       "      <td>198</td>\n",
       "      <td>MARY</td>\n",
       "      <td>KEITEL</td>\n",
       "      <td>2006-02-15 04:34:33</td>\n",
       "    </tr>\n",
       "    <tr>\n",
       "      <th>198</th>\n",
       "      <td>199</td>\n",
       "      <td>JULIA</td>\n",
       "      <td>FAWCETT</td>\n",
       "      <td>2006-02-15 04:34:33</td>\n",
       "    </tr>\n",
       "    <tr>\n",
       "      <th>199</th>\n",
       "      <td>200</td>\n",
       "      <td>THORA</td>\n",
       "      <td>TEMPLE</td>\n",
       "      <td>2006-02-15 04:34:33</td>\n",
       "    </tr>\n",
       "  </tbody>\n",
       "</table>\n",
       "<p>200 rows × 4 columns</p>\n",
       "</div>"
      ],
      "text/plain": [
       "     actor_id first_name     last_name          last_update\n",
       "0           1   PENELOPE       GUINESS  2006-02-15 04:34:33\n",
       "1           2       NICK      WAHLBERG  2006-02-15 04:34:33\n",
       "2           3         ED         CHASE  2006-02-15 04:34:33\n",
       "3           4   JENNIFER         DAVIS  2006-02-15 04:34:33\n",
       "4           5     JOHNNY  LOLLOBRIGIDA  2006-02-15 04:34:33\n",
       "..        ...        ...           ...                  ...\n",
       "195       196       BELA        WALKEN  2006-02-15 04:34:33\n",
       "196       197      REESE          WEST  2006-02-15 04:34:33\n",
       "197       198       MARY        KEITEL  2006-02-15 04:34:33\n",
       "198       199      JULIA       FAWCETT  2006-02-15 04:34:33\n",
       "199       200      THORA        TEMPLE  2006-02-15 04:34:33\n",
       "\n",
       "[200 rows x 4 columns]"
      ]
     },
     "metadata": {},
     "output_type": "display_data"
    }
   ],
   "source": [
    "actors = pd.read_csv('../data/actor.csv', encoding = 'latin1')\n",
    "display(actors)"
   ]
  },
  {
   "cell_type": "markdown",
   "id": "f32980fc",
   "metadata": {},
   "source": [
    "# 3. Exploración del data frame"
   ]
  },
  {
   "cell_type": "markdown",
   "id": "c6d870dd",
   "metadata": {},
   "source": [
    "3.1. Elementos totales del data frame (número de filas multiplicado por el número de columnas)."
   ]
  },
  {
   "cell_type": "code",
   "execution_count": 20,
   "id": "a7237559",
   "metadata": {},
   "outputs": [
    {
     "data": {
      "text/plain": [
       "800"
      ]
     },
     "execution_count": 20,
     "metadata": {},
     "output_type": "execute_result"
    }
   ],
   "source": [
    "actors.size"
   ]
  },
  {
   "cell_type": "markdown",
   "id": "54a387de",
   "metadata": {},
   "source": [
    "3.2. Número de filas y número de columnas."
   ]
  },
  {
   "cell_type": "code",
   "execution_count": 21,
   "id": "b00d25ca",
   "metadata": {},
   "outputs": [
    {
     "data": {
      "text/plain": [
       "(200, 4)"
      ]
     },
     "execution_count": 21,
     "metadata": {},
     "output_type": "execute_result"
    }
   ],
   "source": [
    "actors.shape"
   ]
  },
  {
   "cell_type": "markdown",
   "id": "3a2777d0",
   "metadata": {},
   "source": [
    "3.3. Información general del data frame."
   ]
  },
  {
   "cell_type": "code",
   "execution_count": 23,
   "id": "bfd0da1c",
   "metadata": {
    "scrolled": false
   },
   "outputs": [
    {
     "name": "stdout",
     "output_type": "stream",
     "text": [
      "<class 'pandas.core.frame.DataFrame'>\n",
      "RangeIndex: 200 entries, 0 to 199\n",
      "Data columns (total 4 columns):\n",
      " #   Column       Non-Null Count  Dtype \n",
      "---  ------       --------------  ----- \n",
      " 0   actor_id     200 non-null    int64 \n",
      " 1   first_name   200 non-null    object\n",
      " 2   last_name    200 non-null    object\n",
      " 3   last_update  200 non-null    object\n",
      "dtypes: int64(1), object(3)\n",
      "memory usage: 6.4+ KB\n"
     ]
    }
   ],
   "source": [
    "actors.info()"
   ]
  },
  {
   "cell_type": "markdown",
   "id": "86b107c7",
   "metadata": {},
   "source": [
    "## 4. Limpieza columna 'actor_id'"
   ]
  },
  {
   "cell_type": "code",
   "execution_count": 30,
   "id": "1c81f3e0",
   "metadata": {},
   "outputs": [
    {
     "data": {
      "text/plain": [
       "array(['PENELOPE', 'NICK', 'ED', 'JENNIFER', 'JOHNNY', 'BETTE', 'GRACE',\n",
       "       'MATTHEW', 'JOE', 'CHRISTIAN', 'ZERO', 'KARL', 'UMA', 'VIVIEN',\n",
       "       'CUBA', 'FRED', 'HELEN', 'DAN', 'BOB', 'LUCILLE', 'KIRSTEN',\n",
       "       'ELVIS', 'SANDRA', 'CAMERON', 'KEVIN', 'RIP', 'JULIA', 'WOODY',\n",
       "       'ALEC', 'SISSY', 'TIM', 'MILLA', 'AUDREY', 'JUDY', 'BURT', 'VAL',\n",
       "       'TOM', 'GOLDIE', 'JODIE', 'KIRK', 'REESE', 'PARKER', 'FRANCES',\n",
       "       'ANNE', 'NATALIE', 'GARY', 'CARMEN', 'MENA', 'FAY', 'JUDE',\n",
       "       'DUSTIN', 'HENRY', 'JAYNE', 'RAY', 'ANGELA', 'MARY', 'JESSICA',\n",
       "       'KENNETH', 'MICHELLE', 'ADAM', 'SEAN', 'ANGELINA', 'CARY',\n",
       "       'GROUCHO', 'MAE', 'RALPH', 'SCARLETT', 'BEN', 'JAMES', 'MINNIE',\n",
       "       'GREG', 'SPENCER', 'CHARLIZE', 'CHRISTOPHER', 'ELLEN', 'DARYL',\n",
       "       'GENE', 'MEG', 'CHRIS', 'JIM', 'SUSAN', 'WALTER', 'SIDNEY', 'GINA',\n",
       "       'WARREN', 'SYLVESTER', 'RUSSELL', 'MORGAN', 'HARRISON', 'RENEE',\n",
       "       'LIZA', 'SALMA', 'JULIANNE', 'ALBERT', 'CATE', 'GRETA', 'JANE',\n",
       "       'RICHARD', 'RITA', 'EWAN', 'WHOOPI', 'JADA', 'RIVER', 'KIM',\n",
       "       'EMILY', 'GEOFFREY', 'MERYL', 'IAN', 'LAURA', 'HARVEY', 'OPRAH',\n",
       "       'HUMPHREY', 'AL', 'LAURENCE', 'WILL', 'OLYMPIA', 'ALAN', 'MICHAEL',\n",
       "       'WILLIAM', 'JON', 'LISA', 'JEFF', 'DEBBIE', 'ROCK', 'GREGORY',\n",
       "       'JOHN', 'BELA', 'THORA'], dtype=object)"
      ]
     },
     "execution_count": 30,
     "metadata": {},
     "output_type": "execute_result"
    }
   ],
   "source": [
    "actors['first_name'].unique()"
   ]
  },
  {
   "cell_type": "markdown",
   "id": "d4fda390",
   "metadata": {},
   "source": [
    "## 5. Limpieza columna 'first_name'"
   ]
  },
  {
   "cell_type": "markdown",
   "id": "305455b6",
   "metadata": {},
   "source": [
    "## 6. Limpieza columna 'last_name'"
   ]
  },
  {
   "cell_type": "markdown",
   "id": "4896ad04",
   "metadata": {},
   "source": [
    "## 7. Limpieza columna 'last_update'"
   ]
  },
  {
   "cell_type": "code",
   "execution_count": null,
   "id": "cd693766",
   "metadata": {},
   "outputs": [],
   "source": []
  }
 ],
 "metadata": {
  "kernelspec": {
   "display_name": "Python 3 (ipykernel)",
   "language": "python",
   "name": "python3"
  },
  "language_info": {
   "codemirror_mode": {
    "name": "ipython",
    "version": 3
   },
   "file_extension": ".py",
   "mimetype": "text/x-python",
   "name": "python",
   "nbconvert_exporter": "python",
   "pygments_lexer": "ipython3",
   "version": "3.11.4"
  }
 },
 "nbformat": 4,
 "nbformat_minor": 5
}
