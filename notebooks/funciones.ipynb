{
 "cells": [
  {
   "cell_type": "markdown",
   "id": "e28a4466",
   "metadata": {},
   "source": [
    "Primera letra a mayúscula"
   ]
  },
  {
   "cell_type": "code",
   "execution_count": 2,
   "id": "b6667f19",
   "metadata": {},
   "outputs": [],
   "source": [
    "def correct_mayusc (x): \n",
    "    return x.title()"
   ]
  },
  {
   "cell_type": "code",
   "execution_count": null,
   "id": "a0015272",
   "metadata": {},
   "outputs": [],
   "source": []
  }
 ],
 "metadata": {
  "kernelspec": {
   "display_name": "Python 3 (ipykernel)",
   "language": "python",
   "name": "python3"
  },
  "language_info": {
   "codemirror_mode": {
    "name": "ipython",
    "version": 3
   },
   "file_extension": ".py",
   "mimetype": "text/x-python",
   "name": "python",
   "nbconvert_exporter": "python",
   "pygments_lexer": "ipython3",
   "version": "3.11.4"
  }
 },
 "nbformat": 4,
 "nbformat_minor": 5
}
